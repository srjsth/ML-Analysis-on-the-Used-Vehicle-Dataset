{
 "cells": [
  {
   "cell_type": "code",
   "execution_count": 1,
   "id": "35162400",
   "metadata": {},
   "outputs": [
    {
     "data": {
      "text/html": [
       "\n",
       "            <div>\n",
       "                <p><b>SparkSession - in-memory</b></p>\n",
       "                \n",
       "        <div>\n",
       "            <p><b>SparkContext</b></p>\n",
       "\n",
       "            <p><a href=\"http://192.168.0.15:4041\">Spark UI</a></p>\n",
       "\n",
       "            <dl>\n",
       "              <dt>Version</dt>\n",
       "                <dd><code>v3.2.1</code></dd>\n",
       "              <dt>Master</dt>\n",
       "                <dd><code>local[*]</code></dd>\n",
       "              <dt>AppName</dt>\n",
       "                <dd><code>big_data_project</code></dd>\n",
       "            </dl>\n",
       "        </div>\n",
       "        \n",
       "            </div>\n",
       "        "
      ],
      "text/plain": [
       "<pyspark.sql.session.SparkSession at 0x7f9d799d7cd0>"
      ]
     },
     "execution_count": 1,
     "metadata": {},
     "output_type": "execute_result"
    }
   ],
   "source": [
    "from pyspark.sql import SparkSession\n",
    "spark = SparkSession.Builder().appName(\n",
    "    \"big_data_project\").config('spark.jars.packages','julioasotodv:spark-tree-plotting:0.2').getOrCreate()\n",
    "spark"
   ]
  },
  {
   "cell_type": "code",
   "execution_count": 2,
   "id": "47d18e50",
   "metadata": {},
   "outputs": [],
   "source": [
    "from PIL import Image\n",
    "import io"
   ]
  },
  {
   "cell_type": "code",
   "execution_count": 3,
   "id": "4c89f44d",
   "metadata": {
    "scrolled": false
   },
   "outputs": [
    {
     "name": "stdout",
     "output_type": "stream",
     "text": [
      "+----+----------+----+--------------------+---------+----------------+-----------------+----------------+---------------+--------------------+------------+-------------+-----------+--------+----------+-----+\n",
      "|Make|     Model|Year|    Engine Fuel Type|Engine HP|Engine Cylinders|Transmission Type|   Driven_Wheels|Number of Doors|     Market Category|Vehicle Size|Vehicle Style|highway MPG|city mpg|Popularity| MSRP|\n",
      "+----+----------+----+--------------------+---------+----------------+-----------------+----------------+---------------+--------------------+------------+-------------+-----------+--------+----------+-----+\n",
      "| BMW|1 Series M|2011|premium unleaded ...|      335|               6|           MANUAL|rear wheel drive|              2|Factory Tuner,Lux...|     Compact|        Coupe|         26|      19|      3916|46135|\n",
      "| BMW|  1 Series|2011|premium unleaded ...|      300|               6|           MANUAL|rear wheel drive|              2|  Luxury,Performance|     Compact|  Convertible|         28|      19|      3916|40650|\n",
      "+----+----------+----+--------------------+---------+----------------+-----------------+----------------+---------------+--------------------+------------+-------------+-----------+--------+----------+-----+\n",
      "only showing top 2 rows\n",
      "\n"
     ]
    }
   ],
   "source": [
    "from datetime import datetime, date\n",
    "import pandas as pd\n",
    "from pyspark.sql.functions import sum, min, max, avg, mean, count, countDistinct\n",
    "from pyspark.sql.functions import round, col, percentile_approx\n",
    "\n",
    "from pyspark.sql import Row\n",
    "df_csv = spark.read.csv('CS777_dataset.csv', header=True)\n",
    "df_csv.show(2)"
   ]
  },
  {
   "cell_type": "markdown",
   "id": "ffb929ae",
   "metadata": {},
   "source": [
    "### <span style=\"color:blue\"> DATA EXPLORATION AND ANALYSIS </span>"
   ]
  },
  {
   "cell_type": "code",
   "execution_count": 4,
   "id": "fd813f34",
   "metadata": {},
   "outputs": [
    {
     "name": "stdout",
     "output_type": "stream",
     "text": [
      "root\n",
      " |-- Make: string (nullable = true)\n",
      " |-- Model: string (nullable = true)\n",
      " |-- Year: string (nullable = true)\n",
      " |-- Engine Fuel Type: string (nullable = true)\n",
      " |-- Engine HP: string (nullable = true)\n",
      " |-- Engine Cylinders: string (nullable = true)\n",
      " |-- Transmission Type: string (nullable = true)\n",
      " |-- Driven_Wheels: string (nullable = true)\n",
      " |-- Number of Doors: string (nullable = true)\n",
      " |-- Market Category: string (nullable = true)\n",
      " |-- Vehicle Size: string (nullable = true)\n",
      " |-- Vehicle Style: string (nullable = true)\n",
      " |-- highway MPG: string (nullable = true)\n",
      " |-- city mpg: string (nullable = true)\n",
      " |-- Popularity: string (nullable = true)\n",
      " |-- MSRP: string (nullable = true)\n",
      "\n"
     ]
    }
   ],
   "source": [
    "df_csv.printSchema()"
   ]
  },
  {
   "cell_type": "markdown",
   "id": "a2ba5c84",
   "metadata": {},
   "source": [
    "### <span style=\"color:blue\">Top 10 car makes with the highest sales </span>"
   ]
  },
  {
   "cell_type": "code",
   "execution_count": 5,
   "id": "44a71340",
   "metadata": {},
   "outputs": [
    {
     "name": "stdout",
     "output_type": "stream",
     "text": [
      "+-------------+--------------------------+--------------+------------+-----------------------+\n",
      "|         Make|Total sales in Millions($)|Number of Cars|Median Price|Avg price for this make|\n",
      "+-------------+--------------------------+--------------+------------+-----------------------+\n",
      "|    Chevrolet|                     31.84|          1123|     26430.0|                28350.0|\n",
      "|Mercedes-Benz|                     25.23|           353|     54500.0|                71476.0|\n",
      "|         Ford|                     24.14|           881|     28540.0|                27399.0|\n",
      "|   Volkswagen|                     22.73|           809|     27425.0|                28102.0|\n",
      "|     Cadillac|                     22.32|           397|     51650.0|                56231.0|\n",
      "|       Toyota|                     21.66|           746|     30160.0|                29030.0|\n",
      "|          BMW|                     20.56|           334|     51700.0|                61547.0|\n",
      "| Aston Martin|                     18.41|            93|    195895.0|               197910.0|\n",
      "|      Bentley|                     18.29|            74|    231400.0|               247169.0|\n",
      "|         Audi|                     17.53|           328|     46550.0|                53452.0|\n",
      "+-------------+--------------------------+--------------+------------+-----------------------+\n",
      "only showing top 10 rows\n",
      "\n"
     ]
    }
   ],
   "source": [
    "df_csv.groupBy('Make').agg(\n",
    "    round(sum('MSRP')/1000000, 2).alias('Total sales in Millions($)'), \n",
    "    count('Model').alias('Number of Cars'),\n",
    "    percentile_approx('MSRP', 0.5).alias('Median Price'), \n",
    "    round(avg('MSRP'), 0).alias('Avg price for this make')\n",
    "    ).orderBy('Total sales in Millions($)', ascending = False).show(10)"
   ]
  },
  {
   "cell_type": "markdown",
   "id": "bea785a2",
   "metadata": {},
   "source": [
    "### <span style=\"color:blue\">Luxury cars with the median price above $150K </span>"
   ]
  },
  {
   "cell_type": "code",
   "execution_count": 6,
   "id": "11fa6a32",
   "metadata": {},
   "outputs": [
    {
     "name": "stdout",
     "output_type": "stream",
     "text": [
      "+------------+------------+\n",
      "|        Make|Median_Price|\n",
      "+------------+------------+\n",
      "|     Bugatti|   1705769.0|\n",
      "|     Maybach|    423500.0|\n",
      "| Rolls-Royce|    319400.0|\n",
      "| Lamborghini|    251600.0|\n",
      "|     McLaren|    239400.0|\n",
      "|     Bentley|    231400.0|\n",
      "|     Ferrari|    224585.0|\n",
      "|      Spyker|    209990.0|\n",
      "|Aston Martin|    195895.0|\n",
      "+------------+------------+\n",
      "\n"
     ]
    }
   ],
   "source": [
    "df_csv.groupBy('Make').agg(percentile_approx('MSRP', 0.5).alias('Median_Price')).orderBy('Median_Price', \n",
    "                                                               ascending = False).filter('Median_Price>150000').show()"
   ]
  },
  {
   "cell_type": "markdown",
   "id": "aa7e370b",
   "metadata": {},
   "source": [
    "### <span style=\"color:blue\">Boxplots for famous German car makes </span>"
   ]
  },
  {
   "cell_type": "code",
   "execution_count": 7,
   "id": "d60d6ebc",
   "metadata": {
    "scrolled": false
   },
   "outputs": [
    {
     "name": "stderr",
     "output_type": "stream",
     "text": [
      "/opt/anaconda3/lib/python3.8/site-packages/pyspark/sql/dataframe.py:138: FutureWarning: Deprecated in 2.0, use createOrReplaceTempView instead.\n",
      "  warnings.warn(\n",
      "/opt/anaconda3/lib/python3.8/site-packages/pyspark/sql/context.py:77: FutureWarning: Deprecated in 3.0.0. Use SparkSession.builder.getOrCreate() instead.\n",
      "  warnings.warn(\n"
     ]
    },
    {
     "data": {
      "image/png": "[encoded data removed]",
      "text/plain": [
       "<Figure size 936x936 with 1 Axes>"
      ]
     },
     "metadata": {},
     "output_type": "display_data"
    }
   ],
   "source": [
    "from pyspark.sql import SQLContext\n",
    "import seaborn as sns\n",
    "import matplotlib.pyplot as plt\n",
    "import pandas as pd\n",
    "#Creating Table\n",
    "df_new = df_csv.select('Make', 'MSRP', 'Engine HP')\n",
    "exprs = [col(column).alias(column.replace(' ', '_')) for column in df_new.columns]\n",
    "df_new = df_csv.select(*exprs)\n",
    "df_new.registerTempTable('Cars')\n",
    "sqlContext = SQLContext(spark)\n",
    "#Running Query\n",
    "df = sqlContext.sql(\"\"\"select Make, MSRP, CAST(Engine_HP as int) horse_power\n",
    "        from cars \n",
    "        where \n",
    "        Make == 'Audi' or make == 'BMW' or make == 'Mercedes-Benz' or make == 'Porsche'\"\"\").toPandas()\n",
    "\n",
    "#Creating Visualization\n",
    "sns.set_style(\"white\")\n",
    "sns.set(rc={'figure.figsize':(13, 13)})\n",
    "my_pal = {\"BMW\": \"#528B8B\", \"Audi\" : \"#8DEEEE\",  \"Mercedes-Benz\" : \"#79CDCD\",  \"Porsche\" : '#00CED1'}\n",
    "boxplot_gr = sns.boxplot(x = df['Make'],\n",
    "            y = pd.to_numeric(df['MSRP']),\n",
    "              hue = df['Make'],\n",
    "           palette = my_pal,\n",
    "           linewidth=3)\n",
    "boxplot_gr.legend(fontsize=15)\n",
    "plt.ylim(0, 220000)\n",
    "plt.title('Boxplots for Main German Car Makers', fontsize=20, color = 'orange')\n",
    "plt.show()"
   ]
  },
  {
   "cell_type": "code",
   "execution_count": 8,
   "id": "c48846e4",
   "metadata": {},
   "outputs": [
    {
     "data": {
      "text/html": [
       "<div>\n",
       "<style scoped>\n",
       "    .dataframe tbody tr th:only-of-type {\n",
       "        vertical-align: middle;\n",
       "    }\n",
       "\n",
       "    .dataframe tbody tr th {\n",
       "        vertical-align: top;\n",
       "    }\n",
       "\n",
       "    .dataframe thead th {\n",
       "        text-align: right;\n",
       "    }\n",
       "</style>\n",
       "<table border=\"1\" class=\"dataframe\">\n",
       "  <thead>\n",
       "    <tr style=\"text-align: right;\">\n",
       "      <th></th>\n",
       "      <th>Make</th>\n",
       "      <th>Total_sale</th>\n",
       "      <th>share_sales_percentage</th>\n",
       "      <th>total_sale</th>\n",
       "    </tr>\n",
       "  </thead>\n",
       "  <tbody>\n",
       "    <tr>\n",
       "      <th>0</th>\n",
       "      <td>Chevrolet</td>\n",
       "      <td>31837483.0</td>\n",
       "      <td>6.58</td>\n",
       "      <td>483645697.0</td>\n",
       "    </tr>\n",
       "    <tr>\n",
       "      <th>1</th>\n",
       "      <td>Mercedes-Benz</td>\n",
       "      <td>25231109.0</td>\n",
       "      <td>5.22</td>\n",
       "      <td>483645697.0</td>\n",
       "    </tr>\n",
       "    <tr>\n",
       "      <th>2</th>\n",
       "      <td>Ford</td>\n",
       "      <td>24138754.0</td>\n",
       "      <td>4.99</td>\n",
       "      <td>483645697.0</td>\n",
       "    </tr>\n",
       "    <tr>\n",
       "      <th>3</th>\n",
       "      <td>Volkswagen</td>\n",
       "      <td>22734826.0</td>\n",
       "      <td>4.70</td>\n",
       "      <td>483645697.0</td>\n",
       "    </tr>\n",
       "    <tr>\n",
       "      <th>4</th>\n",
       "      <td>Cadillac</td>\n",
       "      <td>22323833.0</td>\n",
       "      <td>4.62</td>\n",
       "      <td>483645697.0</td>\n",
       "    </tr>\n",
       "    <tr>\n",
       "      <th>5</th>\n",
       "      <td>Toyota</td>\n",
       "      <td>21656392.0</td>\n",
       "      <td>4.48</td>\n",
       "      <td>483645697.0</td>\n",
       "    </tr>\n",
       "    <tr>\n",
       "      <th>6</th>\n",
       "      <td>BMW</td>\n",
       "      <td>20556619.0</td>\n",
       "      <td>4.25</td>\n",
       "      <td>483645697.0</td>\n",
       "    </tr>\n",
       "    <tr>\n",
       "      <th>7</th>\n",
       "      <td>Aston Martin</td>\n",
       "      <td>18405665.0</td>\n",
       "      <td>3.81</td>\n",
       "      <td>483645697.0</td>\n",
       "    </tr>\n",
       "    <tr>\n",
       "      <th>8</th>\n",
       "      <td>Bentley</td>\n",
       "      <td>18290530.0</td>\n",
       "      <td>3.78</td>\n",
       "      <td>483645697.0</td>\n",
       "    </tr>\n",
       "    <tr>\n",
       "      <th>9</th>\n",
       "      <td>Audi</td>\n",
       "      <td>17532293.0</td>\n",
       "      <td>3.63</td>\n",
       "      <td>483645697.0</td>\n",
       "    </tr>\n",
       "  </tbody>\n",
       "</table>\n",
       "</div>"
      ],
      "text/plain": [
       "            Make  Total_sale  share_sales_percentage   total_sale\n",
       "0      Chevrolet  31837483.0                    6.58  483645697.0\n",
       "1  Mercedes-Benz  25231109.0                    5.22  483645697.0\n",
       "2           Ford  24138754.0                    4.99  483645697.0\n",
       "3     Volkswagen  22734826.0                    4.70  483645697.0\n",
       "4       Cadillac  22323833.0                    4.62  483645697.0\n",
       "5         Toyota  21656392.0                    4.48  483645697.0\n",
       "6            BMW  20556619.0                    4.25  483645697.0\n",
       "7   Aston Martin  18405665.0                    3.81  483645697.0\n",
       "8        Bentley  18290530.0                    3.78  483645697.0\n",
       "9           Audi  17532293.0                    3.63  483645697.0"
      ]
     },
     "execution_count": 8,
     "metadata": {},
     "output_type": "execute_result"
    }
   ],
   "source": [
    "df_sql = sqlContext.sql(\"\"\"\n",
    "        SELECT Make, SUM(MSRP) as Total_sale,\n",
    "        round(100*(SUM(MSRP))/SUM(SUM(MSRP)) OVER (), 2) as share_sales_percentage,\n",
    "        SUM(SUM(MSRP)) OVER () as total_sale\n",
    "        FROM cars\n",
    "        GROUP BY Make\n",
    "        order by share_sales_percentage desc\n",
    "        \"\"\").toPandas()\n",
    "df_sql.head(10)"
   ]
  },
  {
   "cell_type": "code",
   "execution_count": 9,
   "id": "5ddaeb79",
   "metadata": {},
   "outputs": [
    {
     "data": {
      "image/png": "[encoded data removed]",
      "text/plain": [
       "<Figure size 6000x2000 with 4 Axes>"
      ]
     },
     "metadata": {},
     "output_type": "display_data"
    }
   ],
   "source": [
    "# Plot\n",
    "fig, axes = plt.subplots(1, 4, figsize=(15, 5), dpi=400, sharex=True, sharey=True)\n",
    "colors = ['tab:red', 'tab:blue', 'tab:green', 'tab:pink']\n",
    "\n",
    "for i, (ax, Make) in enumerate(zip(axes.flatten(), df.Make.unique())):\n",
    "    x = df.loc[df.Make==Make, 'horse_power']\n",
    "    ax.hist(x, alpha=0.5, bins=15, stacked=True, label=str(Make), color=colors[i])\n",
    "    ax.set_title(Make)\n",
    "\n",
    "plt.suptitle('Horse power histograms for German Car Makes', y=1.05, size=16)\n",
    "plt.tight_layout();"
   ]
  },
  {
   "cell_type": "code",
   "execution_count": 10,
   "id": "3149ddbb",
   "metadata": {},
   "outputs": [
    {
     "name": "stdout",
     "output_type": "stream",
     "text": [
      "There is strong positive correlation betwee horse power and the price of the cars and is equal to:\n"
     ]
    },
    {
     "data": {
      "text/plain": [
       "0.6500953442373126"
      ]
     },
     "execution_count": 10,
     "metadata": {},
     "output_type": "execute_result"
    }
   ],
   "source": [
    "exprs = [col(column).alias(column.replace(' ', '_')) for column in df_csv.columns]\n",
    "print('There is strong positive correlation betwee horse power and the price of the cars and is equal to:')\n",
    "df_csv.select(*exprs).selectExpr('float(Engine_HP) as horse_power', 'int(MSRP) as MSRP').stat.corr('horse_power', 'MSRP')\n",
    "\n"
   ]
  },
  {
   "cell_type": "markdown",
   "id": "fa15db88",
   "metadata": {},
   "source": [
    "# <span style=\"color:orange\">Supervised Learning </span>\n",
    "## <span style=\"color:blue\">Linear regression </span>"
   ]
  },
  {
   "cell_type": "code",
   "execution_count": 11,
   "id": "9fb6840d",
   "metadata": {
    "scrolled": false
   },
   "outputs": [
    {
     "name": "stdout",
     "output_type": "stream",
     "text": [
      "root\n",
      " |-- Make: string (nullable = true)\n",
      " |-- Model: string (nullable = true)\n",
      " |-- Year: double (nullable = true)\n",
      " |-- Engine HP: double (nullable = true)\n",
      " |-- Engine Cylinders: double (nullable = true)\n",
      " |-- Number of Doors: double (nullable = true)\n",
      " |-- highway MPG: double (nullable = true)\n",
      " |-- city mpg: double (nullable = true)\n",
      " |-- Popularity: double (nullable = true)\n",
      " |-- MSRP: double (nullable = true)\n",
      " |-- Engine Fuel Type Indexed: double (nullable = false)\n",
      " |-- Transmission Type Indexed: double (nullable = false)\n",
      " |-- Driven_Wheels Indexed: double (nullable = false)\n",
      " |-- Market Category Indexed: double (nullable = false)\n",
      " |-- Vehicle Size Indexed: double (nullable = false)\n",
      " |-- Vehicle Style Indexed: double (nullable = false)\n",
      "\n"
     ]
    }
   ],
   "source": [
    "from pyspark.ml.regression import LinearRegression\n",
    "from pyspark.ml.evaluation import RegressionEvaluator\n",
    "from pyspark.ml.feature import VectorAssembler\n",
    "from pyspark.sql.functions import col, expr, when,\\\n",
    "desc, first, last, row_number, rank, substring\n",
    "from pyspark.sql.functions import col,isnan, when, count\n",
    "from pyspark.ml.feature import StringIndexer\n",
    "\n",
    "\n",
    "dfSupervisedLearning = df_csv\n",
    "dfSupervisedLearning = dfSupervisedLearning.withColumn(\"Year\",dfSupervisedLearning.Year.cast('double'))\n",
    "dfSupervisedLearning = dfSupervisedLearning.withColumn(\"Engine HP\",col(\"Engine HP\").cast('double'))\n",
    "dfSupervisedLearning = dfSupervisedLearning.withColumn(\"Engine Cylinders\",col(\"Engine Cylinders\").cast('double'))\n",
    "dfSupervisedLearning = dfSupervisedLearning.withColumn(\"Number of Doors\",col(\"Number of Doors\").cast('double'))\n",
    "dfSupervisedLearning = dfSupervisedLearning.withColumn(\"highway MPG\",col(\"highway MPG\").cast('double'))\n",
    "dfSupervisedLearning = dfSupervisedLearning.withColumn(\"city mpg\",col(\"city mpg\").cast('double'))\n",
    "dfSupervisedLearning = dfSupervisedLearning.withColumn(\"Popularity\",col(\"Popularity\").cast('double'))\n",
    "dfSupervisedLearning = dfSupervisedLearning.withColumn(\"MSRP\",col(\"MSRP\").cast('double'))\n",
    "\n",
    "dfSupervisedLearning = dfSupervisedLearning.na.drop(how=\"any\")\n",
    "\n",
    "\n",
    "\n",
    "\n",
    "indexer = StringIndexer(inputCol=\"Engine Fuel Type\", outputCol=\"Engine Fuel Type Indexed\")\n",
    "dfIndexed = indexer.fit(dfSupervisedLearning).transform(dfSupervisedLearning)\n",
    "dfIndexed = dfIndexed.drop(\"Engine Fuel Type\")\n",
    "\n",
    "indexer = StringIndexer(inputCol=\"Transmission Type\", outputCol=\"Transmission Type Indexed\")\n",
    "dfIndexed = indexer.fit(dfIndexed).transform(dfIndexed)\n",
    "dfIndexed = dfIndexed.drop(\"Transmission Type\")\n",
    "\n",
    "indexer = StringIndexer(inputCol=\"Driven_Wheels\", outputCol=\"Driven_Wheels Indexed\")\n",
    "dfIndexed = indexer.fit(dfIndexed).transform(dfIndexed)\n",
    "dfIndexed = dfIndexed.drop(\"Driven_Wheels\")\n",
    "\n",
    "indexer = StringIndexer(inputCol=\"Market Category\", outputCol=\"Market Category Indexed\")\n",
    "dfIndexed = indexer.fit(dfIndexed).transform(dfIndexed)\n",
    "dfIndexed = dfIndexed.drop(\"Market Category\")\n",
    "\n",
    "indexer = StringIndexer(inputCol=\"Vehicle Size\", outputCol=\"Vehicle Size Indexed\")\n",
    "dfIndexed = indexer.fit(dfIndexed).transform(dfIndexed)\n",
    "dfIndexed = dfIndexed.drop(\"Vehicle Size\")\n",
    "\n",
    "indexer = StringIndexer(inputCol=\"Vehicle Style\", outputCol=\"Vehicle Style Indexed\")\n",
    "dfIndexed = indexer.fit(dfIndexed).transform(dfIndexed)\n",
    "dfIndexed = dfIndexed.drop(\"Vehicle Style\")\n",
    "\n",
    "dfIndexed.printSchema()\n",
    "\n",
    "\n"
   ]
  },
  {
   "cell_type": "code",
   "execution_count": 12,
   "id": "3b26d6fd",
   "metadata": {
    "scrolled": false
   },
   "outputs": [
    {
     "name": "stdout",
     "output_type": "stream",
     "text": [
      "R2: 0.36952090488553224 MSE: 2632136087.9606886 RMSE: 51304.34765164341\n",
      "+-------------+-------+---------------+---------------+\n",
      "|inputFeatures|   MSRP|     prediction|       residual|\n",
      "+-------------+-------+---------------+---------------+\n",
      "|       [62.0]| 2000.0|-28004.50666...|30004.506666...|\n",
      "|       [63.0]| 2000.0|-27639.24128...|29639.241288...|\n",
      "|       [66.0]| 2000.0|-26543.44515...|28543.445154...|\n",
      "|       [66.0]| 2000.0|-26543.44515...|28543.445154...|\n",
      "|       [73.0]| 2000.0|-23986.58750...|25986.587508...|\n",
      "|       [73.0]| 2000.0|-23986.58750...|25986.587508...|\n",
      "|       [73.0]| 2000.0|-23986.58750...|25986.587508...|\n",
      "|       [74.0]| 2000.0|-23621.32213...|25621.322130...|\n",
      "|       [74.0]| 2000.0|-23621.32213...|25621.322130...|\n",
      "|       [74.0]|12995.0|-23621.32213...|36616.322130...|\n",
      "|       [74.0]|12995.0|-23621.32213...|36616.322130...|\n",
      "|       [74.0]|14095.0|-23621.32213...|37716.322130...|\n",
      "|       [74.0]|14195.0|-23621.32213...|37816.322130...|\n",
      "|       [74.0]|14295.0|-23621.32213...|37916.322130...|\n",
      "|       [78.0]|13995.0|-22160.26061...|36155.260618...|\n",
      "|       [78.0]|15195.0|-22160.26061...|37355.260618...|\n",
      "|       [79.0]| 2000.0|-21794.99524...|23794.995240...|\n",
      "|       [79.0]| 9299.0|-21794.99524...|31093.995240...|\n",
      "|       [79.0]| 9949.0|-21794.99524...|31743.995240...|\n",
      "|       [79.0]|10949.0|-21794.99524...|32743.995240...|\n",
      "+-------------+-------+---------------+---------------+\n",
      "only showing top 20 rows\n",
      "\n"
     ]
    }
   ],
   "source": [
    "#Setting up Linear Regression for indexed dataset\n",
    "\n",
    "vec_assembler = VectorAssembler(\n",
    "    inputCols = ['Engine HP'],\n",
    "    outputCol = 'inputFeatures')\n",
    "\n",
    "features_df = vec_assembler.transform(dfIndexed)\n",
    "\n",
    "model_df = features_df.select('inputFeatures','MSRP')\n",
    "\n",
    "lr = LinearRegression(\n",
    "    featuresCol='inputFeatures',\n",
    "    labelCol='MSRP',\n",
    "    regParam=0.001)\n",
    "\n",
    "train_df, test_df = model_df.randomSplit(\n",
    "    [0.7,0.3], seed = 777)\n",
    "\n",
    "\n",
    "lr_model = lr.fit(train_df)\n",
    "\n",
    "\n",
    "predictions = lr_model.evaluate(test_df)\n",
    "\n",
    "print('R2:', predictions.r2, \n",
    "'MSE:', predictions.meanSquaredError,\n",
    "'RMSE:', predictions.rootMeanSquaredError)\n",
    "\n",
    "\n",
    "predictions = lr_model.transform(test_df)\n",
    "\n",
    "\n",
    "predictions.withColumn(\n",
    "    'residual', expr('MSRP - prediction')\n",
    ").show(truncate=15)"
   ]
  },
  {
   "cell_type": "markdown",
   "id": "1e8ebfdb",
   "metadata": {},
   "source": [
    "## <span style=\"color:blue\">Our Model does not have a Linear Fit </span>"
   ]
  },
  {
   "cell_type": "code",
   "execution_count": 13,
   "id": "7b31c33c",
   "metadata": {},
   "outputs": [
    {
     "data": {
      "text/plain": [
       "[Text(0, 0.5, 'residuals'), Text(0.5, 0, 'fitted values')]"
      ]
     },
     "execution_count": 13,
     "metadata": {},
     "output_type": "execute_result"
    },
    {
     "data": {
      "image/png": "[encoded data removed]",
      "text/plain": [
       "<Figure size 1080x720 with 1 Axes>"
      ]
     },
     "metadata": {},
     "output_type": "display_data"
    }
   ],
   "source": [
    "import matplotlib. pyplot as plt\n",
    "import seaborn as sns\n",
    "predictions = predictions.withColumn(\n",
    "    'residual', expr('MSRP - prediction'))\n",
    "predictionsplot = predictions.toPandas()    \n",
    "\n",
    "sns.set(style=\"whitegrid\")\n",
    "fig, ax = plt.subplots(figsize =(15,10))\n",
    "sns.regplot(x=predictionsplot['prediction'],y=predictionsplot['residual'],ax=ax,lowess=True)\n",
    "ax.set(ylabel='residuals',xlabel='fitted values')"
   ]
  },
  {
   "cell_type": "code",
   "execution_count": 14,
   "id": "4130d2d6",
   "metadata": {
    "scrolled": false
   },
   "outputs": [
    {
     "name": "stdout",
     "output_type": "stream",
     "text": [
      "R2: 0.5244474748036657 MSE: 1385080500.7765903 RMSE: 37216.66966262014\n",
      "+---------------+-------+---------------+---------------+\n",
      "|  inputFeatures|   MSRP|     prediction|       residual|\n",
      "+---------------+-------+---------------+---------------+\n",
      "|(13,[0,1,2,3...| 2000.0|-8070.283493...|10070.283493...|\n",
      "|(13,[0,1,2,3...| 2000.0|19180.379708...|-17180.37970...|\n",
      "|(13,[0,1,2,3...|15799.0|-322.3075650...|16121.307565...|\n",
      "|(13,[0,1,2,3...|11820.0|-6555.204880...|18375.204880...|\n",
      "|(13,[0,1,2,3...|15015.0|-14809.02293...|29824.022934...|\n",
      "|(13,[0,1,2,3...|14315.0|-652.3153852...|14967.315385...|\n",
      "|(13,[0,1,2,3...|11785.0|-422.5371811...|12207.537181...|\n",
      "|(13,[0,1,2,3...|14349.0|9363.5844692...|4985.4155307...|\n",
      "|(13,[0,1,2,3...|16049.0|9363.5844692...|6685.4155307...|\n",
      "|(13,[0,1,2,3...|15599.0|-1124.010605...|16723.010605...|\n",
      "|(13,[0,1,2,3...|16049.0|-1124.010605...|17173.010605...|\n",
      "|(13,[0,1,2,3...|16995.0|4095.9052028...|12899.094797...|\n",
      "|(13,[0,1,2,3...|15299.0|10039.806203...|5259.1937968...|\n",
      "|(13,[0,1,2,3...|16199.0|10039.806203...|6159.1937968...|\n",
      "|(13,[0,1,2,3...|15895.0|5394.4577904...|10500.542209...|\n",
      "|(13,[0,1,2,3...|16550.0|5732.5686574...|10817.431342...|\n",
      "|(13,[0,1,2,3...|13490.0|1149.5939151...|12340.406084...|\n",
      "|(13,[0,1,2,3...|13990.0|7120.8468299...|6869.1531700...|\n",
      "|(13,[0,1,2,3...|15530.0|7120.8468299...|8409.1531700...|\n",
      "|(13,[0,1,2,3...|17590.0|7120.8468299...|10469.153170...|\n",
      "+---------------+-------+---------------+---------------+\n",
      "only showing top 20 rows\n",
      "\n"
     ]
    }
   ],
   "source": [
    "#Setting up Linear Regression for indexed dataset\n",
    "\n",
    "vec_assembler = VectorAssembler(\n",
    "    inputCols = ['Year', 'Engine HP', 'Engine Cylinders', 'Number of Doors', 'highway MPG', 'city mpg', 'Popularity',\n",
    "                'Engine Fuel Type Indexed', 'Transmission Type Indexed', 'Driven_Wheels Indexed', \n",
    "                'Market Category Indexed', 'Vehicle Size Indexed', 'Vehicle Style Indexed'],\n",
    "    outputCol = 'inputFeatures')\n",
    "\n",
    "features_df = vec_assembler.transform(dfIndexed)\n",
    "\n",
    "model_df = features_df.select('inputFeatures','MSRP')\n",
    "\n",
    "lr = LinearRegression(\n",
    "    featuresCol='inputFeatures',\n",
    "    labelCol='MSRP',\n",
    "    regParam=0.001)\n",
    "\n",
    "train_df, test_df = model_df.randomSplit(\n",
    "    [0.7,0.3], seed = 777)\n",
    "\n",
    "\n",
    "lr_model = lr.fit(train_df)\n",
    "\n",
    "\n",
    "predictions = lr_model.evaluate(test_df)\n",
    "\n",
    "print('R2:', predictions.r2, \n",
    "'MSE:', predictions.meanSquaredError,\n",
    "'RMSE:', predictions.rootMeanSquaredError)\n",
    "\n",
    "\n",
    "predictions = lr_model.transform(test_df)\n",
    "\n",
    "\n",
    "predictions.withColumn(\n",
    "    'residual', expr('MSRP - prediction')\n",
    ").show(truncate=15)"
   ]
  },
  {
   "cell_type": "markdown",
   "id": "a845e5ac",
   "metadata": {},
   "source": [
    "## <span style=\"color:blue\">Our Model does not have a Linear Fit </span>\n"
   ]
  },
  {
   "cell_type": "code",
   "execution_count": 15,
   "id": "1e53cd65",
   "metadata": {},
   "outputs": [
    {
     "data": {
      "text/plain": [
       "[Text(0, 0.5, 'residuals'), Text(0.5, 0, 'fitted values')]"
      ]
     },
     "execution_count": 15,
     "metadata": {},
     "output_type": "execute_result"
    },
    {
     "data": {
      "image/png": "[encoded data removed]",
      "text/plain": [
       "<Figure size 1080x720 with 1 Axes>"
      ]
     },
     "metadata": {},
     "output_type": "display_data"
    }
   ],
   "source": [
    "predictions = predictions.withColumn(\n",
    "    'residual', expr('MSRP - prediction'))\n",
    "predictionsplot = predictions.toPandas()    \n",
    "\n",
    "sns.set(style=\"whitegrid\")\n",
    "fig, ax = plt.subplots(figsize =(15,10))\n",
    "sns.regplot(x=predictionsplot['prediction'],y=predictionsplot['residual'],ax=ax,lowess=True)\n",
    "ax.set(ylabel='residuals',xlabel='fitted values')"
   ]
  },
  {
   "cell_type": "markdown",
   "id": "cbb65ed8",
   "metadata": {},
   "source": [
    "## <span style=\"color:blue\">Logistic regression </span>"
   ]
  },
  {
   "cell_type": "code",
   "execution_count": 16,
   "id": "3c9c84d9",
   "metadata": {},
   "outputs": [
    {
     "name": "stdout",
     "output_type": "stream",
     "text": [
      "+-----+-----+\n",
      "|class|count|\n",
      "+-----+-----+\n",
      "|    1| 5908|\n",
      "|    0| 5904|\n",
      "+-----+-----+\n",
      "\n",
      "root\n",
      " |-- Make: string (nullable = true)\n",
      " |-- Model: string (nullable = true)\n",
      " |-- Year: double (nullable = true)\n",
      " |-- Engine HP: double (nullable = true)\n",
      " |-- Engine Cylinders: double (nullable = true)\n",
      " |-- Number of Doors: double (nullable = true)\n",
      " |-- highway MPG: double (nullable = true)\n",
      " |-- city mpg: double (nullable = true)\n",
      " |-- Popularity: double (nullable = true)\n",
      " |-- Engine Fuel Type Indexed: double (nullable = false)\n",
      " |-- Transmission Type Indexed: double (nullable = false)\n",
      " |-- Driven_Wheels Indexed: double (nullable = false)\n",
      " |-- Market Category Indexed: double (nullable = false)\n",
      " |-- Vehicle Size Indexed: double (nullable = false)\n",
      " |-- Vehicle Style Indexed: double (nullable = false)\n",
      " |-- class: integer (nullable = true)\n",
      "\n"
     ]
    }
   ],
   "source": [
    "from pyspark.sql.functions import when\n",
    "from pyspark.sql.functions import *\n",
    "\n",
    "medVal = dfSupervisedLearning.agg(percentile_approx(\"MSRP\", 0.5).alias(\"median\"))\n",
    "\n",
    "dfClass = dfSupervisedLearning.withColumn(\"class\", \\\n",
    "   when((dfSupervisedLearning.MSRP < medVal.collect()[0][0]), lit(0)) \\\n",
    "     .when((dfSupervisedLearning.MSRP >= medVal.collect()[0][0]), lit(1)))\n",
    "dfClass = dfClass.drop(\"MSRP\")\n",
    "\n",
    "#dfClass.groupBy(\"class\").count().show()\n",
    "#dfClass.printSchema()\n",
    "\n",
    "\n",
    "#indexedDf with dummy categorical variables\n",
    "medVal = dfIndexed.agg(percentile_approx(\"MSRP\", 0.5).alias(\"median\"))\n",
    "\n",
    "dfClassIndexed = dfIndexed.withColumn(\"class\", \\\n",
    "   when((dfIndexed.MSRP < medVal.collect()[0][0]), lit(0)) \\\n",
    "     .when((dfIndexed.MSRP >= medVal.collect()[0][0]), lit(1)))\n",
    "dfClassIndexed = dfClassIndexed.drop(\"MSRP\")\n",
    "\n",
    "dfClassIndexed.groupBy(\"class\").count().show()\n",
    "dfClassIndexed.printSchema()"
   ]
  },
  {
   "cell_type": "code",
   "execution_count": 17,
   "id": "9558f91e",
   "metadata": {},
   "outputs": [
    {
     "name": "stderr",
     "output_type": "stream",
     "text": [
      "/opt/anaconda3/lib/python3.8/site-packages/pyspark/sql/context.py:125: FutureWarning: Deprecated in 3.0.0. Use SparkSession.builder.getOrCreate() instead.\n",
      "  warnings.warn(\n"
     ]
    },
    {
     "name": "stdout",
     "output_type": "stream",
     "text": [
      "Accuracy of model: 0.8873634071168395\n",
      "Incorrect classification: 402\n",
      "Correct classification: 3167\n",
      "              precision    recall  f1-score   support\n",
      "\n",
      "           0       0.88      0.90      0.89      1811\n",
      "           1       0.89      0.88      0.88      1758\n",
      "\n",
      "    accuracy                           0.89      3569\n",
      "   macro avg       0.89      0.89      0.89      3569\n",
      "weighted avg       0.89      0.89      0.89      3569\n",
      "\n"
     ]
    }
   ],
   "source": [
    "#Setting up logistic regression\n",
    "from pyspark.ml.classification import LogisticRegression\n",
    "\n",
    "\n",
    "vec_assembler = VectorAssembler(\n",
    "    inputCols = ['Year', 'Engine HP', 'Engine Cylinders', 'Number of Doors', 'highway MPG', 'city mpg', 'Popularity',\n",
    "                'Engine Fuel Type Indexed', 'Transmission Type Indexed', 'Driven_Wheels Indexed', \n",
    "                'Market Category Indexed', 'Vehicle Size Indexed', 'Vehicle Style Indexed'],\n",
    "    outputCol = 'features')\n",
    "\n",
    "features_df = vec_assembler.transform(dfClassIndexed)\n",
    "\n",
    "model_df = features_df.select('features','class')\n",
    "\n",
    "train_df, test_df = model_df.randomSplit(\n",
    "    [0.7,0.3], seed = 777)\n",
    "\n",
    "log_reg = LogisticRegression(regParam=0.01, elasticNetParam=0,\n",
    "    labelCol='class').fit(train_df)\n",
    "\n",
    "train_results = log_reg.evaluate(train_df).predictions\n",
    "\n",
    "test_results = log_reg.evaluate(test_df)\n",
    "print(\"Accuracy of model:\", test_results.accuracy)\n",
    "\n",
    "predictions = test_results.predictions\n",
    "\n",
    "print(\"Incorrect classification:\", predictions.filter('class != prediction').count())\n",
    "print(\"Correct classification:\", predictions.filter('class == prediction').count())\n",
    "\n",
    "from pyspark.mllib.evaluation import MulticlassMetrics\n",
    "from sklearn.metrics import classification_report, confusion_matrix\n",
    "\n",
    "predictionAndClass = predictions\n",
    "predictionAndClass = predictionAndClass.drop('features', 'rawPrediction', 'probability')\n",
    "predictionAndClass\n",
    "y_true = predictionAndClass.select(['class']).collect()\n",
    "y_pred = predictionAndClass.select(['prediction']).collect()\n",
    "\n",
    "print(classification_report(y_true, y_pred))\n"
   ]
  },
  {
   "cell_type": "markdown",
   "id": "0bb3f259",
   "metadata": {},
   "source": [
    "## <span style=\"color:blue\">Naive Bayes </span>"
   ]
  },
  {
   "cell_type": "code",
   "execution_count": 18,
   "id": "49d0e7fc",
   "metadata": {},
   "outputs": [
    {
     "name": "stdout",
     "output_type": "stream",
     "text": [
      "Model Accuracy for Naive Bayes (70:30 split):  0.8453348276828243\n",
      "Count of right predictions 3017\n",
      "Count of wrong predictions 552\n",
      "              precision    recall  f1-score   support\n",
      "\n",
      "           0       0.82      0.88      0.85      1811\n",
      "           1       0.87      0.81      0.84      1758\n",
      "\n",
      "    accuracy                           0.85      3569\n",
      "   macro avg       0.85      0.84      0.84      3569\n",
      "weighted avg       0.85      0.85      0.85      3569\n",
      "\n"
     ]
    }
   ],
   "source": [
    "from pyspark.ml.classification import NaiveBayes\n",
    "from pyspark.ml import Pipeline\n",
    "from sklearn.metrics import classification_report, confusion_matrix\n",
    "from pyspark.ml.evaluation import MulticlassClassificationEvaluator\n",
    "\n",
    "\n",
    "vec_assembler = VectorAssembler(\n",
    "    inputCols = ['Year', 'Engine HP', 'Engine Cylinders', 'Number of Doors', 'highway MPG', 'city mpg', 'Popularity',\n",
    "                'Engine Fuel Type Indexed', 'Transmission Type Indexed', 'Driven_Wheels Indexed', \n",
    "                'Market Category Indexed', 'Vehicle Size Indexed', 'Vehicle Style Indexed'],\n",
    "    outputCol = 'features')\n",
    "\n",
    "features_df = vec_assembler.transform(dfClassIndexed)\n",
    "\n",
    "\n",
    "model_df = features_df.select('features','class')\n",
    "\n",
    "train_df, test_df = model_df.randomSplit(\n",
    "    [0.7,0.3], seed = 777)\n",
    "\n",
    "nb = NaiveBayes(smoothing=1.0, modelType=\"multinomial\", featuresCol='features',labelCol = 'class').fit(train_df)\n",
    "\n",
    "test_results = nb.transform(test_df)\n",
    "\n",
    "evaluator = MulticlassClassificationEvaluator(\n",
    "    labelCol=\"class\", predictionCol=\"prediction\",\n",
    "    metricName=\"accuracy\")\n",
    "\n",
    "accuracy = evaluator.evaluate(test_results)\n",
    "print (\"Model Accuracy for Naive Bayes (70:30 split): \", accuracy)\n",
    "\n",
    "print('Count of right predictions', test_results.filter('class == prediction').count())\n",
    "print('Count of wrong predictions', test_results.filter('class != prediction').count())\n",
    "\n",
    "\n",
    "\n",
    "\n",
    "predictionAndClass = test_results\n",
    "predictionAndClass = predictionAndClass.drop('features', 'rawPrediction', 'probability')\n",
    "predictionAndClass\n",
    "y_true = predictionAndClass.select(['class']).collect()\n",
    "y_pred = predictionAndClass.select(['prediction']).collect()\n",
    "\n",
    "print(classification_report(y_true, y_pred))"
   ]
  },
  {
   "cell_type": "markdown",
   "id": "e434051b",
   "metadata": {},
   "source": [
    "# <span style=\"color:blue\">Decision Tree, Random Forest,  Gradient Boost Tree</span>"
   ]
  },
  {
   "cell_type": "code",
   "execution_count": 19,
   "id": "adde9a1d",
   "metadata": {},
   "outputs": [
    {
     "name": "stdout",
     "output_type": "stream",
     "text": [
      "+----+----------+------+---------+----------------+---------------+-----------+--------+----------+-------+------------------------+-------------------------+---------------------+-----------------------+--------------------+---------------------+------------+\n",
      "|Make|     Model|  Year|Engine HP|Engine Cylinders|Number of Doors|highway MPG|city mpg|Popularity|   MSRP|Engine Fuel Type Indexed|Transmission Type Indexed|Driven_Wheels Indexed|Market Category Indexed|Vehicle Size Indexed|Vehicle Style Indexed|Make_Indexed|\n",
      "+----+----------+------+---------+----------------+---------------+-----------+--------+----------+-------+------------------------+-------------------------+---------------------+-----------------------+--------------------+---------------------+------------+\n",
      "| BMW|1 Series M|2011.0|    335.0|             6.0|            2.0|       26.0|    19.0|    3916.0|46135.0|                     1.0|                      1.0|                  1.0|                   11.0|                 0.0|                  2.0|        12.0|\n",
      "| BMW|  1 Series|2011.0|    300.0|             6.0|            2.0|       28.0|    19.0|    3916.0|40650.0|                     1.0|                      1.0|                  1.0|                    4.0|                 0.0|                  3.0|        12.0|\n",
      "| BMW|  1 Series|2011.0|    300.0|             6.0|            2.0|       28.0|    20.0|    3916.0|36350.0|                     1.0|                      1.0|                  1.0|                    8.0|                 0.0|                  2.0|        12.0|\n",
      "+----+----------+------+---------+----------------+---------------+-----------+--------+----------+-------+------------------------+-------------------------+---------------------+-----------------------+--------------------+---------------------+------------+\n",
      "only showing top 3 rows\n",
      "\n"
     ]
    }
   ],
   "source": [
    "from pyspark.ml.regression import LinearRegression\n",
    "from pyspark.ml.evaluation import RegressionEvaluator\n",
    "from pyspark.ml.feature import VectorAssembler\n",
    "from pyspark.sql.functions import col, expr, when,\\\n",
    "desc, first, last, row_number, rank, substring\n",
    "from pyspark.sql.functions import col,isnan, when, count\n",
    "from pyspark.ml.feature import StringIndexer\n",
    "\n",
    "\n",
    "df_dt_class = df_csv\n",
    "df_dt_class = df_dt_class.withColumn(\"Year\",df_dt_class.Year.cast('double'))\n",
    "df_dt_class = df_dt_class.withColumn(\"Engine HP\",col(\"Engine HP\").cast('double'))\n",
    "df_dt_class = df_dt_class.withColumn(\"Engine Cylinders\",col(\"Engine Cylinders\").cast('double'))\n",
    "df_dt_class = df_dt_class.withColumn(\"Number of Doors\",col(\"Number of Doors\").cast('double'))\n",
    "df_dt_class = df_dt_class.withColumn(\"highway MPG\",col(\"highway MPG\").cast('double'))\n",
    "df_dt_class = df_dt_class.withColumn(\"city mpg\",col(\"city mpg\").cast('double'))\n",
    "df_dt_class = df_dt_class.withColumn(\"Popularity\",col(\"Popularity\").cast('double'))\n",
    "df_dt_class = df_dt_class.withColumn(\"MSRP\",col(\"MSRP\").cast('double'))\n",
    "\n",
    "\n",
    "#df_dt_class.select([count(when(isnan(c) | col(c).isNull(), c)).alias(c) for c in df_dt_class.columns]\n",
    "#   ).show()\n",
    "\n",
    "df_dt_class = df_dt_class.na.drop(how=\"any\")\n",
    "\n",
    "\n",
    "#df_dt_class.select([count(when(isnan(c) | col(c).isNull(), c)).alias(c) for c in df_dt_class.columns]\n",
    "#   ).show()\n",
    "\n",
    "\n",
    "indexer = StringIndexer(inputCol=\"Engine Fuel Type\", outputCol=\"Engine Fuel Type Indexed\")\n",
    "dfIndexed = indexer.fit(df_dt_class).transform(df_dt_class)\n",
    "dfIndexed = dfIndexed.drop(\"Engine Fuel Type\")\n",
    "\n",
    "indexer = StringIndexer(inputCol=\"Transmission Type\", outputCol=\"Transmission Type Indexed\")\n",
    "dfIndexed = indexer.fit(dfIndexed).transform(dfIndexed)\n",
    "dfIndexed = dfIndexed.drop(\"Transmission Type\")\n",
    "\n",
    "indexer = StringIndexer(inputCol=\"Driven_Wheels\", outputCol=\"Driven_Wheels Indexed\")\n",
    "dfIndexed = indexer.fit(dfIndexed).transform(dfIndexed)\n",
    "dfIndexed = dfIndexed.drop(\"Driven_Wheels\")\n",
    "\n",
    "indexer = StringIndexer(inputCol=\"Market Category\", outputCol=\"Market Category Indexed\")\n",
    "dfIndexed = indexer.fit(dfIndexed).transform(dfIndexed)\n",
    "dfIndexed = dfIndexed.drop(\"Market Category\")\n",
    "\n",
    "indexer = StringIndexer(inputCol=\"Vehicle Size\", outputCol=\"Vehicle Size Indexed\")\n",
    "dfIndexed = indexer.fit(dfIndexed).transform(dfIndexed)\n",
    "dfIndexed = dfIndexed.drop(\"Vehicle Size\")\n",
    "\n",
    "indexer = StringIndexer(inputCol=\"Vehicle Style\", outputCol=\"Vehicle Style Indexed\")\n",
    "dfIndexed = indexer.fit(dfIndexed).transform(dfIndexed)\n",
    "dfIndexed = dfIndexed.drop(\"Vehicle Style\")\n",
    "\n",
    "indexer = StringIndexer(inputCol=\"Make\", outputCol=\"Make_Indexed\")\n",
    "dfIndexed = indexer.fit(dfIndexed).transform(dfIndexed)\n",
    "#dfIndexed = dfIndexed.drop(\"Make\")\n",
    "\n",
    "dfIndexed.show(3)\n"
   ]
  },
  {
   "cell_type": "code",
   "execution_count": 20,
   "id": "b6a2169f",
   "metadata": {},
   "outputs": [],
   "source": [
    "vec_assembler = VectorAssembler(\n",
    "    inputCols = ['Year', 'Engine HP', 'Engine Cylinders', 'Number of Doors', 'highway MPG', 'city mpg', 'Popularity','MSRP','Engine Fuel Type Indexed',\"Transmission Type Indexed\",\"Driven_Wheels Indexed\",\"Market Category Indexed\",\"Vehicle Size Indexed\",\"Vehicle Style Indexed\"],\n",
    "    outputCol = 'inputFeatures')\n",
    "\n",
    "features_df = vec_assembler.transform(dfIndexed)"
   ]
  },
  {
   "cell_type": "code",
   "execution_count": 21,
   "id": "aec45c4d",
   "metadata": {},
   "outputs": [],
   "source": [
    "model_df = features_df.select('inputFeatures','Make_Indexed',\"Make\")"
   ]
  },
  {
   "cell_type": "markdown",
   "id": "fdd67f8a",
   "metadata": {},
   "source": [
    "# <span style=\"color:blue\">Decision Tree Classification Maker</span>\n"
   ]
  },
  {
   "cell_type": "code",
   "execution_count": 22,
   "id": "9fd9166c",
   "metadata": {},
   "outputs": [],
   "source": [
    "from pyspark.ml.evaluation import MulticlassClassificationEvaluator"
   ]
  },
  {
   "cell_type": "code",
   "execution_count": 23,
   "id": "cbda9623",
   "metadata": {},
   "outputs": [
    {
     "data": {
      "text/plain": [
       "(9446, 2366)"
      ]
     },
     "execution_count": 23,
     "metadata": {},
     "output_type": "execute_result"
    }
   ],
   "source": [
    "df_dt_training, df_dt_test = model_df.randomSplit(\n",
    "    [0.8, 0.2], seed = 5902)\n",
    "\n",
    "(df_dt_training.count(), df_dt_test.count())"
   ]
  },
  {
   "cell_type": "code",
   "execution_count": 24,
   "id": "5bd988e0",
   "metadata": {},
   "outputs": [],
   "source": [
    "from pyspark.ml.classification import DecisionTreeClassifier\n",
    "# Creating the model\n",
    "dt_model = DecisionTreeClassifier(featuresCol = 'inputFeatures',\n",
    "                                 labelCol = 'Make_Indexed',maxBins=71)\n",
    "\n",
    "dt_train_results = dt_model.fit(df_dt_training)"
   ]
  },
  {
   "cell_type": "code",
   "execution_count": 25,
   "id": "0fa1c4d4",
   "metadata": {},
   "outputs": [
    {
     "data": {
      "text/plain": [
       "array([0., 0., 0., 0., 0., 0., 1., 0., 0., 0., 0., 0., 0., 0.])"
      ]
     },
     "execution_count": 25,
     "metadata": {},
     "output_type": "execute_result"
    }
   ],
   "source": [
    "# Features IMPORTANCE\n",
    "dt_train_results.featureImportances.toArray()"
   ]
  },
  {
   "cell_type": "code",
   "execution_count": 26,
   "id": "7e33ee9e",
   "metadata": {},
   "outputs": [],
   "source": [
    "dt_predictions_train = dt_train_results.transform(df_dt_training)"
   ]
  },
  {
   "cell_type": "code",
   "execution_count": 27,
   "id": "3c98b212",
   "metadata": {},
   "outputs": [
    {
     "data": {
      "text/plain": [
       "58.69150963370738"
      ]
     },
     "execution_count": 27,
     "metadata": {},
     "output_type": "execute_result"
    }
   ],
   "source": [
    "# Evaluating the results\n",
    "evaluator = MulticlassClassificationEvaluator(\n",
    "    labelCol=\"Make_Indexed\", predictionCol=\"prediction\", \n",
    "    metricName=\"accuracy\")\n",
    "\n",
    "accuracy = evaluator.evaluate(dt_predictions_train)\n",
    "accuracy*100"
   ]
  },
  {
   "cell_type": "code",
   "execution_count": 28,
   "id": "454af768",
   "metadata": {},
   "outputs": [
    {
     "name": "stdout",
     "output_type": "stream",
     "text": [
      "+---------+------------+----------+--------------------+\n",
      "|     Make|Make_Indexed|prediction|         probability|\n",
      "+---------+------------+----------+--------------------+\n",
      "|   Nissan|         5.0|       5.0|[0.0,0.0,0.0,0.0,...|\n",
      "| Chrysler|        23.0|      23.0|[0.0,0.0,0.0,0.0,...|\n",
      "|    Dodge|         4.0|       4.0|[0.0,0.0,0.0,0.0,...|\n",
      "| Plymouth|        31.0|      11.0|[0.0,0.0,0.0,0.0,...|\n",
      "| Chrysler|        23.0|      23.0|[0.0,0.0,0.0,0.0,...|\n",
      "| Chrysler|        23.0|      23.0|[0.0,0.0,0.0,0.0,...|\n",
      "| Plymouth|        31.0|      11.0|[0.0,0.0,0.0,0.0,...|\n",
      "|    Dodge|         4.0|       4.0|[0.0,0.0,0.0,0.0,...|\n",
      "|Chevrolet|         0.0|       0.0|[1.0,0.0,0.0,0.0,...|\n",
      "|   Suzuki|        11.0|      11.0|[0.0,0.0,0.0,0.0,...|\n",
      "|   Suzuki|        11.0|      11.0|[0.0,0.0,0.0,0.0,...|\n",
      "|   Suzuki|        11.0|      11.0|[0.0,0.0,0.0,0.0,...|\n",
      "|   Suzuki|        11.0|      11.0|[0.0,0.0,0.0,0.0,...|\n",
      "|      Kia|        19.0|       9.0|[0.0,0.0,0.0,0.0,...|\n",
      "|      Kia|        19.0|       9.0|[0.0,0.0,0.0,0.0,...|\n",
      "|     Ford|         1.0|       1.0|[0.0,1.0,0.0,0.0,...|\n",
      "|   Suzuki|        11.0|      11.0|[0.0,0.0,0.0,0.0,...|\n",
      "|   Suzuki|        11.0|      11.0|[0.0,0.0,0.0,0.0,...|\n",
      "|   Toyota|         3.0|       3.0|[0.0,0.0,0.0,1.0,...|\n",
      "|   Toyota|         3.0|       3.0|[0.0,0.0,0.0,1.0,...|\n",
      "+---------+------------+----------+--------------------+\n",
      "only showing top 20 rows\n",
      "\n"
     ]
    }
   ],
   "source": [
    "dt_predictions_train.select(\"Make\",'Make_Indexed', \n",
    "                   'prediction', 'probability').show()"
   ]
  },
  {
   "cell_type": "code",
   "execution_count": 29,
   "id": "0b6c6aa0",
   "metadata": {},
   "outputs": [
    {
     "name": "stdout",
     "output_type": "stream",
     "text": [
      "+----------+------------+----------+--------------------+\n",
      "|      Make|Make_Indexed|prediction|         probability|\n",
      "+----------+------------+----------+--------------------+\n",
      "|  Plymouth|        31.0|      11.0|[0.0,0.0,0.0,0.0,...|\n",
      "|  Plymouth|        31.0|      11.0|[0.0,0.0,0.0,0.0,...|\n",
      "|       Kia|        19.0|       9.0|[0.0,0.0,0.0,0.0,...|\n",
      "|       Kia|        19.0|       9.0|[0.0,0.0,0.0,0.0,...|\n",
      "|       Kia|        19.0|       9.0|[0.0,0.0,0.0,0.0,...|\n",
      "|       Kia|        19.0|       9.0|[0.0,0.0,0.0,0.0,...|\n",
      "|       Kia|        19.0|       9.0|[0.0,0.0,0.0,0.0,...|\n",
      "|       Kia|        19.0|       9.0|[0.0,0.0,0.0,0.0,...|\n",
      "|       Kia|        19.0|       9.0|[0.0,0.0,0.0,0.0,...|\n",
      "|       Kia|        19.0|       9.0|[0.0,0.0,0.0,0.0,...|\n",
      "|       Kia|        19.0|       9.0|[0.0,0.0,0.0,0.0,...|\n",
      "|       Kia|        19.0|       9.0|[0.0,0.0,0.0,0.0,...|\n",
      "|       Kia|        19.0|       9.0|[0.0,0.0,0.0,0.0,...|\n",
      "|       Kia|        19.0|       9.0|[0.0,0.0,0.0,0.0,...|\n",
      "|Mitsubishi|        20.0|      11.0|[0.0,0.0,0.0,0.0,...|\n",
      "|     Mazda|         8.0|       6.0|[0.0,0.0,0.0,0.0,...|\n",
      "|     Mazda|         8.0|       6.0|[0.0,0.0,0.0,0.0,...|\n",
      "|     Mazda|         8.0|       6.0|[0.0,0.0,0.0,0.0,...|\n",
      "|       Kia|        19.0|       9.0|[0.0,0.0,0.0,0.0,...|\n",
      "|     Scion|        34.0|      11.0|[0.0,0.0,0.0,0.0,...|\n",
      "+----------+------------+----------+--------------------+\n",
      "only showing top 20 rows\n",
      "\n"
     ]
    }
   ],
   "source": [
    "# Showing wrong predictions\n",
    "dt_predictions_train.select(\"Make\",'Make_Indexed', \n",
    "                   'prediction', 'probability').filter(\n",
    "    'Make_Indexed != prediction').show()"
   ]
  },
  {
   "cell_type": "code",
   "execution_count": 30,
   "id": "3f590562",
   "metadata": {},
   "outputs": [
    {
     "name": "stdout",
     "output_type": "stream",
     "text": [
      "+-----------------------+---+---+----+----+---+----+---+---+---+---+---+---+\n",
      "|Make_Indexed_prediction|0.0|1.0|11.0|15.0|2.0|23.0|3.0|4.0|5.0|6.0|7.0|9.0|\n",
      "+-----------------------+---+---+----+----+---+----+---+---+---+---+---+---+\n",
      "|                    0.0|906|  0|   0|   0|  0|   0|  0|  0|  0|  0|  0|  0|\n",
      "|                    5.0|  0|  0|   0|   0|  0|   0|  0|  0|426|  0|  0|  0|\n",
      "|                   10.0|  0|  0|   0|   0|  0|   0|  0|  0|  0|278|  0|  0|\n",
      "|                   42.0|  0|  0|   3|   0|  0|   0|  0|  0|  0|  0|  0|  0|\n",
      "|                   24.0|  0|  0| 142|   0|  0|   0|  0|  0|  0|  0|  0|  0|\n",
      "|                   37.0|  0|  0|   0|   0|  0|  43|  0|  0|  0|  0|  0|  0|\n",
      "|                   25.0|  0|  0| 128|   0|  0|   0|  0|  0|  0|  0|  0|  0|\n",
      "|                   14.0|  0|  0|   0|   0|  0|   0|  0|  0|  0|  0|261|  0|\n",
      "|                   20.0|  0|  0| 171|   0|  0|   0|  0|  0|  0|  0|  0|  0|\n",
      "|                   46.0|  0|  0|   3|   0|  0|   0|  0|  0|  0|  0|  0|  0|\n",
      "|                   29.0|  0|  0|  88|   0|  0|   0|  0|  0|  0|  0|  0|  0|\n",
      "|                    1.0|  0|688|   0|   0|  0|   0|  0|  0|  0|  0|  0|  0|\n",
      "|                    6.0|  0|  0|   0|   0|  0|   0|  0|  0|  0|406|  0|  0|\n",
      "|                   28.0|  0|  0|   0|   0|  0|   0|  0|  0|  0|  0|  0| 97|\n",
      "|                   38.0|  0|  0|  25|   0|  0|   0|  0|  0|  0|  0|  0|  0|\n",
      "|                   21.0|  0|  0| 169|   0|  0|   0|  0|  0|  0|  0|  0|  0|\n",
      "|                   33.0|  0|  0|   0|   0|  0|   0|  0|  0|  0|  0| 50|  0|\n",
      "|                    9.0|  0|  0|   0|   0|  0|   0|  0|  0|  0|  0|  0|320|\n",
      "|                   13.0|  0|  0| 264|   0|  0|   0|  0|  0|  0|  0|  0|  0|\n",
      "|                   41.0|  0|  0|  14|   0|  0|   0|  0|  0|  0|  0|  0|  0|\n",
      "+-----------------------+---+---+----+----+---+----+---+---+---+---+---+---+\n",
      "only showing top 20 rows\n",
      "\n"
     ]
    }
   ],
   "source": [
    "dt_predictions_train.crosstab(\"Make_Indexed\",\"prediction\").show()"
   ]
  },
  {
   "cell_type": "markdown",
   "id": "293008d6",
   "metadata": {},
   "source": [
    "### Test"
   ]
  },
  {
   "cell_type": "code",
   "execution_count": 31,
   "id": "ae0db6ee",
   "metadata": {},
   "outputs": [
    {
     "data": {
      "text/plain": [
       "57.396449704142015"
      ]
     },
     "execution_count": 31,
     "metadata": {},
     "output_type": "execute_result"
    }
   ],
   "source": [
    "dt_predictions_test = dt_train_results.transform(df_dt_test)\n",
    "\n",
    "# Evaluating the results\n",
    "evaluator = MulticlassClassificationEvaluator(\n",
    "    labelCol=\"Make_Indexed\", predictionCol=\"prediction\", \n",
    "    metricName=\"accuracy\")\n",
    "\n",
    "accuracy = evaluator.evaluate(dt_predictions_test)\n",
    "accuracy*100"
   ]
  },
  {
   "cell_type": "code",
   "execution_count": 32,
   "id": "220cc64d",
   "metadata": {},
   "outputs": [
    {
     "name": "stdout",
     "output_type": "stream",
     "text": [
      "+----------+------------+----------+--------------------+\n",
      "|      Make|Make_Indexed|prediction|         probability|\n",
      "+----------+------------+----------+--------------------+\n",
      "|Oldsmobile|        26.0|      11.0|[0.0,0.0,0.0,0.0,...|\n",
      "|Oldsmobile|        26.0|      11.0|[0.0,0.0,0.0,0.0,...|\n",
      "|  Chrysler|        23.0|      23.0|[0.0,0.0,0.0,0.0,...|\n",
      "|     Dodge|         4.0|       4.0|[0.0,0.0,0.0,0.0,...|\n",
      "| Chevrolet|         0.0|       0.0|[1.0,0.0,0.0,0.0,...|\n",
      "| Chevrolet|         0.0|       0.0|[1.0,0.0,0.0,0.0,...|\n",
      "|    Suzuki|        11.0|      11.0|[0.0,0.0,0.0,0.0,...|\n",
      "|      Ford|         1.0|       1.0|[0.0,1.0,0.0,0.0,...|\n",
      "|    Suzuki|        11.0|      11.0|[0.0,0.0,0.0,0.0,...|\n",
      "|    Suzuki|        11.0|      11.0|[0.0,0.0,0.0,0.0,...|\n",
      "|    Nissan|         5.0|       5.0|[0.0,0.0,0.0,0.0,...|\n",
      "|    Toyota|         3.0|       3.0|[0.0,0.0,0.0,1.0,...|\n",
      "|       Kia|        19.0|       9.0|[0.0,0.0,0.0,0.0,...|\n",
      "|     Honda|         7.0|       7.0|[0.0,0.0,0.0,0.0,...|\n",
      "|       Kia|        19.0|       9.0|[0.0,0.0,0.0,0.0,...|\n",
      "|     Mazda|         8.0|       6.0|[0.0,0.0,0.0,0.0,...|\n",
      "|Mitsubishi|        20.0|      11.0|[0.0,0.0,0.0,0.0,...|\n",
      "|   Hyundai|        15.0|      15.0|[0.0,0.0,0.0,0.0,...|\n",
      "|    Nissan|         5.0|       5.0|[0.0,0.0,0.0,0.0,...|\n",
      "|    Toyota|         3.0|       3.0|[0.0,0.0,0.0,1.0,...|\n",
      "+----------+------------+----------+--------------------+\n",
      "only showing top 20 rows\n",
      "\n"
     ]
    }
   ],
   "source": [
    "dt_predictions_test.select(\"Make\",'Make_Indexed', \n",
    "                   'prediction', 'probability').show()"
   ]
  },
  {
   "cell_type": "code",
   "execution_count": 33,
   "id": "c5ebc1bc",
   "metadata": {},
   "outputs": [
    {
     "name": "stdout",
     "output_type": "stream",
     "text": [
      "+-----------------------+---+---+----+----+---+----+---+---+---+---+---+---+\n",
      "|Make_Indexed_prediction|0.0|1.0|11.0|15.0|2.0|23.0|3.0|4.0|5.0|6.0|7.0|9.0|\n",
      "+-----------------------+---+---+----+----+---+----+---+---+---+---+---+---+\n",
      "|                    0.0|209|  0|   0|   0|  0|   0|  0|  0|  0|  0|  0|  0|\n",
      "|                    5.0|  0|  0|   0|   0|  0|   0|  0|  0|122|  0|  0|  0|\n",
      "|                   10.0|  0|  0|   0|   0|  0|   0|  0|  0|  0| 74|  0|  0|\n",
      "|                   42.0|  0|  0|   2|   0|  0|   0|  0|  0|  0|  0|  0|  0|\n",
      "|                   24.0|  0|  0|  44|   0|  0|   0|  0|  0|  0|  0|  0|  0|\n",
      "|                   37.0|  0|  0|   0|   0|  0|   9|  0|  0|  0|  0|  0|  0|\n",
      "|                   25.0|  0|  0|  28|   0|  0|   0|  0|  0|  0|  0|  0|  0|\n",
      "|                   14.0|  0|  0|   0|   0|  0|   0|  0|  0|  0|  0| 67|  0|\n",
      "|                   20.0|  0|  0|  39|   0|  0|   0|  0|  0|  0|  0|  0|  0|\n",
      "|                   29.0|  0|  0|  23|   0|  0|   0|  0|  0|  0|  0|  0|  0|\n",
      "|                    1.0|  0|180|   0|   0|  0|   0|  0|  0|  0|  0|  0|  0|\n",
      "|                    6.0|  0|  0|   0|   0|  0|   0|  0|  0|  0|109|  0|  0|\n",
      "|                   28.0|  0|  0|   0|   0|  0|   0|  0|  0|  0|  0|  0| 39|\n",
      "|                   38.0|  0|  0|   6|   0|  0|   0|  0|  0|  0|  0|  0|  0|\n",
      "|                   21.0|  0|  0|  33|   0|  0|   0|  0|  0|  0|  0|  0|  0|\n",
      "|                   33.0|  0|  0|   0|   0|  0|   0|  0|  0|  0|  0| 18|  0|\n",
      "|                    9.0|  0|  0|   0|   0|  0|   0|  0|  0|  0|  0|  0| 77|\n",
      "|                   13.0|  0|  0|  66|   0|  0|   0|  0|  0|  0|  0|  0|  0|\n",
      "|                   41.0|  0|  0|   2|   0|  0|   0|  0|  0|  0|  0|  0|  0|\n",
      "|                    2.0|  0|  0|   0|   0|153|   0|  0|  0|  0|  0|  0|  0|\n",
      "+-----------------------+---+---+----+----+---+----+---+---+---+---+---+---+\n",
      "only showing top 20 rows\n",
      "\n"
     ]
    }
   ],
   "source": [
    "dt_predictions_test.crosstab(\"Make_Indexed\",\"prediction\").show()"
   ]
  },
  {
   "cell_type": "code",
   "execution_count": 34,
   "id": "b0330ef7",
   "metadata": {
    "scrolled": false
   },
   "outputs": [
    {
     "name": "stdout",
     "output_type": "stream",
     "text": [
      "DecisionTreeClassificationModel: uid=DecisionTreeClassifier_813a8eb9d70c, depth=5, numNodes=23, numClasses=47, numFeatures=14\n",
      "  If (feature 6 <= 4786.5)\n",
      "   If (feature 6 <= 1785.5)\n",
      "    If (feature 6 <= 1271.5)\n",
      "     If (feature 6 <= 871.5)\n",
      "      If (feature 6 <= 542.0)\n",
      "       Predict: 11.0\n",
      "      Else (feature 6 > 542.0)\n",
      "       Predict: 6.0\n",
      "     Else (feature 6 > 871.5)\n",
      "      If (feature 6 <= 943.0)\n",
      "       Predict: 2.0\n",
      "      Else (feature 6 > 943.0)\n",
      "       Predict: 23.0\n",
      "    Else (feature 6 > 1271.5)\n",
      "     If (feature 6 <= 1412.0)\n",
      "      Predict: 0.0\n",
      "     Else (feature 6 > 1412.0)\n",
      "      If (feature 6 <= 1531.5)\n",
      "       Predict: 15.0\n",
      "      Else (feature 6 > 1531.5)\n",
      "       Predict: 9.0\n",
      "   Else (feature 6 > 1785.5)\n",
      "    If (feature 6 <= 1930.0)\n",
      "     Predict: 4.0\n",
      "    Else (feature 6 > 1930.0)\n",
      "     If (feature 6 <= 2020.0)\n",
      "      Predict: 5.0\n",
      "     Else (feature 6 > 2020.0)\n",
      "      If (feature 6 <= 2116.5)\n",
      "       Predict: 3.0\n",
      "      Else (feature 6 > 2116.5)\n",
      "       Predict: 7.0\n",
      "  Else (feature 6 > 4786.5)\n",
      "   Predict: 1.0\n",
      "\n"
     ]
    }
   ],
   "source": [
    "print(dt_train_results.toDebugString)"
   ]
  },
  {
   "cell_type": "code",
   "execution_count": 35,
   "id": "73305449",
   "metadata": {},
   "outputs": [],
   "source": [
    "def parse_debug_string_lines(lines):\n",
    "    \n",
    "    block = []\n",
    "    while lines:\n",
    "\n",
    "\n",
    "        if lines[0].startswith('If'):\n",
    "            bl = ' '.join(lines.pop(0).split()[1:]).replace('(', '').replace(')', '')\n",
    "            block.append({'name': bl, 'children': parse_debug_string_lines(lines)})\n",
    "\n",
    "\n",
    "            if lines[0].startswith('Else'):\n",
    "                be = ' '.join(lines.pop(0).split()[1:]).replace('(', '').replace(')', '')\n",
    "                block.append({'name': be, 'children': parse_debug_string_lines(lines)})\n",
    "        elif not lines[0].startswith(('If', 'Else')):\n",
    "            block2 = lines.pop(0)\n",
    "            block.append({'name': block2})\n",
    "        else:\n",
    "            break\n",
    "    \n",
    "    return block\n",
    "\n",
    "\n",
    "def debug_str_to_json(debug_string):\n",
    "    data = []\n",
    "    for line in debug_string.splitlines():\n",
    "        if line.strip():\n",
    "            line = line.strip()\n",
    "            data.append(line)\n",
    "        else:\n",
    "            break\n",
    "        if not line: break\n",
    "\n",
    "    json = {'name': 'Root', 'children': parse_debug_string_lines(data[1:])}\n",
    "    \n",
    "\n",
    "    return json"
   ]
  },
  {
   "cell_type": "code",
   "execution_count": 36,
   "id": "590401be",
   "metadata": {
    "scrolled": false
   },
   "outputs": [
    {
     "name": "stdout",
     "output_type": "stream",
     "text": [
      "{\n",
      " \"name\": \"Root\",\n",
      " \"children\": [\n",
      "  {\n",
      "   \"name\": \"feature 6 <= 4786.5\",\n",
      "   \"children\": [\n",
      "    {\n",
      "     \"name\": \"feature 6 <= 1785.5\",\n",
      "     \"children\": [\n",
      "      {\n",
      "       \"name\": \"feature 6 <= 1271.5\",\n",
      "       \"children\": [\n",
      "        {\n",
      "         \"name\": \"feature 6 <= 871.5\",\n",
      "         \"children\": [\n",
      "          {\n",
      "           \"name\": \"feature 6 <= 542.0\",\n",
      "           \"children\": [\n",
      "            {\n",
      "             \"name\": \"Predict: 11.0\"\n",
      "            }\n",
      "           ]\n",
      "          },\n",
      "          {\n",
      "           \"name\": \"feature 6 > 542.0\",\n",
      "           \"children\": [\n",
      "            {\n",
      "             \"name\": \"Predict: 6.0\"\n",
      "            }\n",
      "           ]\n",
      "          }\n",
      "         ]\n",
      "        },\n",
      "        {\n",
      "         \"name\": \"feature 6 > 871.5\",\n",
      "         \"children\": [\n",
      "          {\n",
      "           \"name\": \"feature 6 <= 943.0\",\n",
      "           \"children\": [\n",
      "            {\n",
      "             \"name\": \"Predict: 2.0\"\n",
      "            }\n",
      "           ]\n",
      "          },\n",
      "          {\n",
      "           \"name\": \"feature 6 > 943.0\",\n",
      "           \"children\": [\n",
      "            {\n",
      "             \"name\": \"Predict: 23.0\"\n",
      "            }\n",
      "           ]\n",
      "          }\n",
      "         ]\n",
      "        }\n",
      "       ]\n",
      "      },\n",
      "      {\n",
      "       \"name\": \"feature 6 > 1271.5\",\n",
      "       \"children\": [\n",
      "        {\n",
      "         \"name\": \"feature 6 <= 1412.0\",\n",
      "         \"children\": [\n",
      "          {\n",
      "           \"name\": \"Predict: 0.0\"\n",
      "          }\n",
      "         ]\n",
      "        },\n",
      "        {\n",
      "         \"name\": \"feature 6 > 1412.0\",\n",
      "         \"children\": [\n",
      "          {\n",
      "           \"name\": \"feature 6 <= 1531.5\",\n",
      "           \"children\": [\n",
      "            {\n",
      "             \"name\": \"Predict: 15.0\"\n",
      "            }\n",
      "           ]\n",
      "          },\n",
      "          {\n",
      "           \"name\": \"feature 6 > 1531.5\",\n",
      "           \"children\": [\n",
      "            {\n",
      "             \"name\": \"Predict: 9.0\"\n",
      "            }\n",
      "           ]\n",
      "          }\n",
      "         ]\n",
      "        }\n",
      "       ]\n",
      "      }\n",
      "     ]\n",
      "    },\n",
      "    {\n",
      "     \"name\": \"feature 6 > 1785.5\",\n",
      "     \"children\": [\n",
      "      {\n",
      "       \"name\": \"feature 6 <= 1930.0\",\n",
      "       \"children\": [\n",
      "        {\n",
      "         \"name\": \"Predict: 4.0\"\n",
      "        }\n",
      "       ]\n",
      "      },\n",
      "      {\n",
      "       \"name\": \"feature 6 > 1930.0\",\n",
      "       \"children\": [\n",
      "        {\n",
      "         \"name\": \"feature 6 <= 2020.0\",\n",
      "         \"children\": [\n",
      "          {\n",
      "           \"name\": \"Predict: 5.0\"\n",
      "          }\n",
      "         ]\n",
      "        },\n",
      "        {\n",
      "         \"name\": \"feature 6 > 2020.0\",\n",
      "         \"children\": [\n",
      "          {\n",
      "           \"name\": \"feature 6 <= 2116.5\",\n",
      "           \"children\": [\n",
      "            {\n",
      "             \"name\": \"Predict: 3.0\"\n",
      "            }\n",
      "           ]\n",
      "          },\n",
      "          {\n",
      "           \"name\": \"feature 6 > 2116.5\",\n",
      "           \"children\": [\n",
      "            {\n",
      "             \"name\": \"Predict: 7.0\"\n",
      "            }\n",
      "           ]\n",
      "          }\n",
      "         ]\n",
      "        }\n",
      "       ]\n",
      "      }\n",
      "     ]\n",
      "    }\n",
      "   ]\n",
      "  },\n",
      "  {\n",
      "   \"name\": \"feature 6 > 4786.5\",\n",
      "   \"children\": [\n",
      "    {\n",
      "     \"name\": \"Predict: 1.0\"\n",
      "    }\n",
      "   ]\n",
      "  }\n",
      " ]\n",
      "}\n"
     ]
    }
   ],
   "source": [
    "import json\n",
    "\n",
    "dict_tree_json = debug_str_to_json(dt_train_results.toDebugString)\n",
    "\n",
    "print(json.dumps(dict_tree_json,indent = 1 ))"
   ]
  },
  {
   "cell_type": "code",
   "execution_count": 37,
   "id": "ffb91df9",
   "metadata": {
    "scrolled": false
   },
   "outputs": [
    {
     "data": {
      "text/html": [
       " <?xml version=\"1.0\" standalone=\"no\"?>\n",
       "<svg xmlns:xlink=\"http://www.w3.org/1999/xlink\" xmlns=\"http://www.w3.org/2000/svg\" class=\"vtree\" width=\"960\" height=\"800\"><style>\n",
       ".vtree-node text { font: 14px sans-serif; }\n",
       ".vtree-link { fill: none; stroke: #888; stroke-width: 2px; }\n",
       ".vtree-table { stroke-width: 2px; stroke: steelblue; }\n",
       "path.vtree-table { fill: white; }\n",
       "g.vtree-node rect { fill: white; stroke: black; stroke-width: 1px; }\n",
       "g.vtree-node rect.number-text { fill: #d8f0ed; }\n",
       "g.vtree-node rect.string-text { fill: #e7f0db; }\n",
       "g.vtree-node rect.boolean-text { fill: #e1d8f0; }\n",
       "g.vtree-node rect.null-text { fill: #888; }\n",
       "</style><g class=\"vtree-root\" transform=\"translate(303.20787372757076,307.79015622520745)scale(0.4106553503760329)\"><g class=\"vtree-node\" transform=\"translate(480,106)\"><g class=\"vtree-node\" transform=\"translate(-42,0)\"><path class=\"vtree-link\" d=\"M42,12C42,59 -46,59 -46,106\"/><g class=\"vtree-node\" transform=\"translate(42,74)\"><path class=\"vtree-link\" d=\"M-88,32C-88,32 986,32 986,32\"/><g class=\"vtree-node\" transform=\"translate(-176,0)\"><path class=\"vtree-link\" d=\"M88,32C88,79 -277,79 -277,126\"/><g class=\"vtree-node\" transform=\"translate(88,94)\"><path class=\"vtree-link\" d=\"M-365,32C-365,32 620,32 620,32\"/><g class=\"vtree-node\" transform=\"translate(-453,0)\"><path class=\"vtree-link\" d=\"M88,32C88,79 -186,79 -186,126\"/><g class=\"vtree-node\" transform=\"translate(88,94)\"><path class=\"vtree-link\" d=\"M-274,32C-274,32 347,32 347,32\"/><g class=\"vtree-node\" transform=\"translate(-362,0)\"><path class=\"vtree-link\" d=\"M88,32C88,79 -85,79 -85,126\"/><g class=\"vtree-node\" transform=\"translate(88,94)\"><path class=\"vtree-link\" d=\"M-173,32C-173,32 174,32 174,32\"/><g class=\"vtree-node\" transform=\"translate(-257,0)\"><path class=\"vtree-link\" d=\"M84,32C84,79 -1,79 -1,126\"/><g class=\"vtree-node\" transform=\"translate(84,94)\"><path class=\"vtree-link\" d=\"M-85,32C-85,32 89,32 89,32\"/><g class=\"vtree-node\" transform=\"translate(-169,0)\"><path class=\"vtree-link\" d=\"M84,32C84,79 84,79 84,126\"/><g class=\"vtree-node\" transform=\"translate(84,94)\"><g class=\"vtree-node\" transform=\"translate(-65,0)\"><g transform=\"translate(0,20)\"><g transform=\"translate(0,0)\"><rect class=\"string-text\" x=\"0\" y=\"0\" width=\"44\" height=\"24\"/><text x=\"4\" y=\"20\">name</text></g><g transform=\"translate(44,0)\"><rect class=\"string-text\" x=\"0\" y=\"0\" width=\"86\" height=\"24\"/><text x=\"4\" y=\"20\">Predict: 11.0</text></g></g><g><text x=\"65\" y=\"16\" text-anchor=\"middle\">children[0]</text></g></g></g><g transform=\"translate(0,20)\"><g transform=\"translate(0,0)\"><rect class=\"string-text\" x=\"0\" y=\"0\" width=\"44\" height=\"24\"/><text x=\"4\" y=\"20\">name</text></g><g transform=\"translate(44,0)\"><rect class=\"string-text\" x=\"0\" y=\"0\" width=\"124\" height=\"24\"/><text x=\"4\" y=\"20\">feature 6 &lt;= 542.0</text></g></g><g><text x=\"84\" y=\"16\" text-anchor=\"middle\">children[0]</text></g></g><g class=\"vtree-node\" transform=\"translate(9,0)\"><path class=\"vtree-link\" d=\"M80,32C80,79 80,79 80,126\"/><g class=\"vtree-node\" transform=\"translate(80,94)\"><g class=\"vtree-node\" transform=\"translate(-62,0)\"><g transform=\"translate(0,20)\"><g transform=\"translate(0,0)\"><rect class=\"string-text\" x=\"0\" y=\"0\" width=\"44\" height=\"24\"/><text x=\"4\" y=\"20\">name</text></g><g transform=\"translate(44,0)\"><rect class=\"string-text\" x=\"0\" y=\"0\" width=\"79\" height=\"24\"/><text x=\"4\" y=\"20\">Predict: 6.0</text></g></g><g><text x=\"62\" y=\"16\" text-anchor=\"middle\">children[0]</text></g></g></g><g transform=\"translate(0,20)\"><g transform=\"translate(0,0)\"><rect class=\"string-text\" x=\"0\" y=\"0\" width=\"44\" height=\"24\"/><text x=\"4\" y=\"20\">name</text></g><g transform=\"translate(44,0)\"><rect class=\"string-text\" x=\"0\" y=\"0\" width=\"115\" height=\"24\"/><text x=\"4\" y=\"20\">feature 6 &gt; 542.0</text></g></g><g><text x=\"80\" y=\"16\" text-anchor=\"middle\">children[1]</text></g></g></g><g transform=\"translate(0,20)\"><g transform=\"translate(0,0)\"><rect class=\"string-text\" x=\"0\" y=\"0\" width=\"44\" height=\"24\"/><text x=\"4\" y=\"20\">name</text></g><g transform=\"translate(44,0)\"><rect class=\"string-text\" x=\"0\" y=\"0\" width=\"124\" height=\"24\"/><text x=\"4\" y=\"20\">feature 6 &lt;= 871.5</text></g></g><g><text x=\"84\" y=\"16\" text-anchor=\"middle\">children[0]</text></g></g><g class=\"vtree-node\" transform=\"translate(94,0)\"><path class=\"vtree-link\" d=\"M80,32C80,79 -5,79 -5,126\"/><g class=\"vtree-node\" transform=\"translate(80,94)\"><path class=\"vtree-link\" d=\"M-85,32C-85,32 89,32 89,32\"/><g class=\"vtree-node\" transform=\"translate(-169,0)\"><path class=\"vtree-link\" d=\"M84,32C84,79 84,79 84,126\"/><g class=\"vtree-node\" transform=\"translate(84,94)\"><g class=\"vtree-node\" transform=\"translate(-62,0)\"><g transform=\"translate(0,20)\"><g transform=\"translate(0,0)\"><rect class=\"string-text\" x=\"0\" y=\"0\" width=\"44\" height=\"24\"/><text x=\"4\" y=\"20\">name</text></g><g transform=\"translate(44,0)\"><rect class=\"string-text\" x=\"0\" y=\"0\" width=\"79\" height=\"24\"/><text x=\"4\" y=\"20\">Predict: 2.0</text></g></g><g><text x=\"62\" y=\"16\" text-anchor=\"middle\">children[0]</text></g></g></g><g transform=\"translate(0,20)\"><g transform=\"translate(0,0)\"><rect class=\"string-text\" x=\"0\" y=\"0\" width=\"44\" height=\"24\"/><text x=\"4\" y=\"20\">name</text></g><g transform=\"translate(44,0)\"><rect class=\"string-text\" x=\"0\" y=\"0\" width=\"124\" height=\"24\"/><text x=\"4\" y=\"20\">feature 6 &lt;= 943.0</text></g></g><g><text x=\"84\" y=\"16\" text-anchor=\"middle\">children[0]</text></g></g><g class=\"vtree-node\" transform=\"translate(9,0)\"><path class=\"vtree-link\" d=\"M80,32C80,79 80,79 80,126\"/><g class=\"vtree-node\" transform=\"translate(80,94)\"><g class=\"vtree-node\" transform=\"translate(-66,0)\"><g transform=\"translate(0,20)\"><g transform=\"translate(0,0)\"><rect class=\"string-text\" x=\"0\" y=\"0\" width=\"44\" height=\"24\"/><text x=\"4\" y=\"20\">name</text></g><g transform=\"translate(44,0)\"><rect class=\"string-text\" x=\"0\" y=\"0\" width=\"87\" height=\"24\"/><text x=\"4\" y=\"20\">Predict: 23.0</text></g></g><g><text x=\"66\" y=\"16\" text-anchor=\"middle\">children[0]</text></g></g></g><g transform=\"translate(0,20)\"><g transform=\"translate(0,0)\"><rect class=\"string-text\" x=\"0\" y=\"0\" width=\"44\" height=\"24\"/><text x=\"4\" y=\"20\">name</text></g><g transform=\"translate(44,0)\"><rect class=\"string-text\" x=\"0\" y=\"0\" width=\"115\" height=\"24\"/><text x=\"4\" y=\"20\">feature 6 &gt; 943.0</text></g></g><g><text x=\"80\" y=\"16\" text-anchor=\"middle\">children[1]</text></g></g></g><g transform=\"translate(0,20)\"><g transform=\"translate(0,0)\"><rect class=\"string-text\" x=\"0\" y=\"0\" width=\"44\" height=\"24\"/><text x=\"4\" y=\"20\">name</text></g><g transform=\"translate(44,0)\"><rect class=\"string-text\" x=\"0\" y=\"0\" width=\"115\" height=\"24\"/><text x=\"4\" y=\"20\">feature 6 &gt; 871.5</text></g></g><g><text x=\"80\" y=\"16\" text-anchor=\"middle\">children[1]</text></g></g></g><g transform=\"translate(0,20)\"><g transform=\"translate(0,0)\"><rect class=\"string-text\" x=\"0\" y=\"0\" width=\"44\" height=\"24\"/><text x=\"4\" y=\"20\">name</text></g><g transform=\"translate(44,0)\"><rect class=\"string-text\" x=\"0\" y=\"0\" width=\"131\" height=\"24\"/><text x=\"4\" y=\"20\">feature 6 &lt;= 1271.5</text></g></g><g><text x=\"88\" y=\"16\" text-anchor=\"middle\">children[0]</text></g></g><g class=\"vtree-node\" transform=\"translate(263,0)\"><path class=\"vtree-link\" d=\"M84,32C84,79 -97,79 -97,126\"/><g class=\"vtree-node\" transform=\"translate(84,94)\"><path class=\"vtree-link\" d=\"M-181,32C-181,32 92,32 92,32\"/><g class=\"vtree-node\" transform=\"translate(-269,0)\"><path class=\"vtree-link\" d=\"M88,32C88,79 88,79 88,126\"/><g class=\"vtree-node\" transform=\"translate(88,94)\"><g class=\"vtree-node\" transform=\"translate(-62,0)\"><g transform=\"translate(0,20)\"><g transform=\"translate(0,0)\"><rect class=\"string-text\" x=\"0\" y=\"0\" width=\"44\" height=\"24\"/><text x=\"4\" y=\"20\">name</text></g><g transform=\"translate(44,0)\"><rect class=\"string-text\" x=\"0\" y=\"0\" width=\"79\" height=\"24\"/><text x=\"4\" y=\"20\">Predict: 0.0</text></g></g><g><text x=\"62\" y=\"16\" text-anchor=\"middle\">children[0]</text></g></g></g><g transform=\"translate(0,20)\"><g transform=\"translate(0,0)\"><rect class=\"string-text\" x=\"0\" y=\"0\" width=\"44\" height=\"24\"/><text x=\"4\" y=\"20\">name</text></g><g transform=\"translate(44,0)\"><rect class=\"string-text\" x=\"0\" y=\"0\" width=\"131\" height=\"24\"/><text x=\"4\" y=\"20\">feature 6 &lt;= 1412.0</text></g></g><g><text x=\"88\" y=\"16\" text-anchor=\"middle\">children[0]</text></g></g><g class=\"vtree-node\" transform=\"translate(8,0)\"><path class=\"vtree-link\" d=\"M84,32C84,79 -4,79 -4,126\"/><g class=\"vtree-node\" transform=\"translate(84,94)\"><path class=\"vtree-link\" d=\"M-88,32C-88,32 93,32 93,32\"/><g class=\"vtree-node\" transform=\"translate(-176,0)\"><path class=\"vtree-link\" d=\"M88,32C88,79 88,79 88,126\"/><g class=\"vtree-node\" transform=\"translate(88,94)\"><g class=\"vtree-node\" transform=\"translate(-66,0)\"><g transform=\"translate(0,20)\"><g transform=\"translate(0,0)\"><rect class=\"string-text\" x=\"0\" y=\"0\" width=\"44\" height=\"24\"/><text x=\"4\" y=\"20\">name</text></g><g transform=\"translate(44,0)\"><rect class=\"string-text\" x=\"0\" y=\"0\" width=\"87\" height=\"24\"/><text x=\"4\" y=\"20\">Predict: 15.0</text></g></g><g><text x=\"66\" y=\"16\" text-anchor=\"middle\">children[0]</text></g></g></g><g transform=\"translate(0,20)\"><g transform=\"translate(0,0)\"><rect class=\"string-text\" x=\"0\" y=\"0\" width=\"44\" height=\"24\"/><text x=\"4\" y=\"20\">name</text></g><g transform=\"translate(44,0)\"><rect class=\"string-text\" x=\"0\" y=\"0\" width=\"131\" height=\"24\"/><text x=\"4\" y=\"20\">feature 6 &lt;= 1531.5</text></g></g><g><text x=\"88\" y=\"16\" text-anchor=\"middle\">children[0]</text></g></g><g class=\"vtree-node\" transform=\"translate(9,0)\"><path class=\"vtree-link\" d=\"M84,32C84,79 84,79 84,126\"/><g class=\"vtree-node\" transform=\"translate(84,94)\"><g class=\"vtree-node\" transform=\"translate(-62,0)\"><g transform=\"translate(0,20)\"><g transform=\"translate(0,0)\"><rect class=\"string-text\" x=\"0\" y=\"0\" width=\"44\" height=\"24\"/><text x=\"4\" y=\"20\">name</text></g><g transform=\"translate(44,0)\"><rect class=\"string-text\" x=\"0\" y=\"0\" width=\"79\" height=\"24\"/><text x=\"4\" y=\"20\">Predict: 9.0</text></g></g><g><text x=\"62\" y=\"16\" text-anchor=\"middle\">children[0]</text></g></g></g><g transform=\"translate(0,20)\"><g transform=\"translate(0,0)\"><rect class=\"string-text\" x=\"0\" y=\"0\" width=\"44\" height=\"24\"/><text x=\"4\" y=\"20\">name</text></g><g transform=\"translate(44,0)\"><rect class=\"string-text\" x=\"0\" y=\"0\" width=\"123\" height=\"24\"/><text x=\"4\" y=\"20\">feature 6 &gt; 1531.5</text></g></g><g><text x=\"84\" y=\"16\" text-anchor=\"middle\">children[1]</text></g></g></g><g transform=\"translate(0,20)\"><g transform=\"translate(0,0)\"><rect class=\"string-text\" x=\"0\" y=\"0\" width=\"44\" height=\"24\"/><text x=\"4\" y=\"20\">name</text></g><g transform=\"translate(44,0)\"><rect class=\"string-text\" x=\"0\" y=\"0\" width=\"123\" height=\"24\"/><text x=\"4\" y=\"20\">feature 6 &gt; 1412.0</text></g></g><g><text x=\"84\" y=\"16\" text-anchor=\"middle\">children[1]</text></g></g></g><g transform=\"translate(0,20)\"><g transform=\"translate(0,0)\"><rect class=\"string-text\" x=\"0\" y=\"0\" width=\"44\" height=\"24\"/><text x=\"4\" y=\"20\">name</text></g><g transform=\"translate(44,0)\"><rect class=\"string-text\" x=\"0\" y=\"0\" width=\"123\" height=\"24\"/><text x=\"4\" y=\"20\">feature 6 &gt; 1271.5</text></g></g><g><text x=\"84\" y=\"16\" text-anchor=\"middle\">children[1]</text></g></g></g><g transform=\"translate(0,20)\"><g transform=\"translate(0,0)\"><rect class=\"string-text\" x=\"0\" y=\"0\" width=\"44\" height=\"24\"/><text x=\"4\" y=\"20\">name</text></g><g transform=\"translate(44,0)\"><rect class=\"string-text\" x=\"0\" y=\"0\" width=\"131\" height=\"24\"/><text x=\"4\" y=\"20\">feature 6 &lt;= 1785.5</text></g></g><g><text x=\"88\" y=\"16\" text-anchor=\"middle\">children[0]</text></g></g><g class=\"vtree-node\" transform=\"translate(536,0)\"><path class=\"vtree-link\" d=\"M84,32C84,79 -188,79 -188,126\"/><g class=\"vtree-node\" transform=\"translate(84,94)\"><path class=\"vtree-link\" d=\"M-272,32C-272,32 93,32 93,32\"/><g class=\"vtree-node\" transform=\"translate(-360,0)\"><path class=\"vtree-link\" d=\"M88,32C88,79 88,79 88,126\"/><g class=\"vtree-node\" transform=\"translate(88,94)\"><g class=\"vtree-node\" transform=\"translate(-62,0)\"><g transform=\"translate(0,20)\"><g transform=\"translate(0,0)\"><rect class=\"string-text\" x=\"0\" y=\"0\" width=\"44\" height=\"24\"/><text x=\"4\" y=\"20\">name</text></g><g transform=\"translate(44,0)\"><rect class=\"string-text\" x=\"0\" y=\"0\" width=\"79\" height=\"24\"/><text x=\"4\" y=\"20\">Predict: 4.0</text></g></g><g><text x=\"62\" y=\"16\" text-anchor=\"middle\">children[0]</text></g></g></g><g transform=\"translate(0,20)\"><g transform=\"translate(0,0)\"><rect class=\"string-text\" x=\"0\" y=\"0\" width=\"44\" height=\"24\"/><text x=\"4\" y=\"20\">name</text></g><g transform=\"translate(44,0)\"><rect class=\"string-text\" x=\"0\" y=\"0\" width=\"131\" height=\"24\"/><text x=\"4\" y=\"20\">feature 6 &lt;= 1930.0</text></g></g><g><text x=\"88\" y=\"16\" text-anchor=\"middle\">children[0]</text></g></g><g class=\"vtree-node\" transform=\"translate(9,0)\"><path class=\"vtree-link\" d=\"M84,32C84,79 -96,79 -96,126\"/><g class=\"vtree-node\" transform=\"translate(84,94)\"><path class=\"vtree-link\" d=\"M-180,32C-180,32 92,32 92,32\"/><g class=\"vtree-node\" transform=\"translate(-268,0)\"><path class=\"vtree-link\" d=\"M88,32C88,79 88,79 88,126\"/><g class=\"vtree-node\" transform=\"translate(88,94)\"><g class=\"vtree-node\" transform=\"translate(-62,0)\"><g transform=\"translate(0,20)\"><g transform=\"translate(0,0)\"><rect class=\"string-text\" x=\"0\" y=\"0\" width=\"44\" height=\"24\"/><text x=\"4\" y=\"20\">name</text></g><g transform=\"translate(44,0)\"><rect class=\"string-text\" x=\"0\" y=\"0\" width=\"79\" height=\"24\"/><text x=\"4\" y=\"20\">Predict: 5.0</text></g></g><g><text x=\"62\" y=\"16\" text-anchor=\"middle\">children[0]</text></g></g></g><g transform=\"translate(0,20)\"><g transform=\"translate(0,0)\"><rect class=\"string-text\" x=\"0\" y=\"0\" width=\"44\" height=\"24\"/><text x=\"4\" y=\"20\">name</text></g><g transform=\"translate(44,0)\"><rect class=\"string-text\" x=\"0\" y=\"0\" width=\"131\" height=\"24\"/><text x=\"4\" y=\"20\">feature 6 &lt;= 2020.0</text></g></g><g><text x=\"88\" y=\"16\" text-anchor=\"middle\">children[0]</text></g></g><g class=\"vtree-node\" transform=\"translate(8,0)\"><path class=\"vtree-link\" d=\"M84,32C84,79 -4,79 -4,126\"/><g class=\"vtree-node\" transform=\"translate(84,94)\"><path class=\"vtree-link\" d=\"M-88,32C-88,32 92,32 92,32\"/><g class=\"vtree-node\" transform=\"translate(-175,0)\"><path class=\"vtree-link\" d=\"M87,32C87,79 87,79 87,126\"/><g class=\"vtree-node\" transform=\"translate(87,94)\"><g class=\"vtree-node\" transform=\"translate(-62,0)\"><g transform=\"translate(0,20)\"><g transform=\"translate(0,0)\"><rect class=\"string-text\" x=\"0\" y=\"0\" width=\"44\" height=\"24\"/><text x=\"4\" y=\"20\">name</text></g><g transform=\"translate(44,0)\"><rect class=\"string-text\" x=\"0\" y=\"0\" width=\"79\" height=\"24\"/><text x=\"4\" y=\"20\">Predict: 3.0</text></g></g><g><text x=\"62\" y=\"16\" text-anchor=\"middle\">children[0]</text></g></g></g><g transform=\"translate(0,20)\"><g transform=\"translate(0,0)\"><rect class=\"string-text\" x=\"0\" y=\"0\" width=\"44\" height=\"24\"/><text x=\"4\" y=\"20\">name</text></g><g transform=\"translate(44,0)\"><rect class=\"string-text\" x=\"0\" y=\"0\" width=\"130\" height=\"24\"/><text x=\"4\" y=\"20\">feature 6 &lt;= 2116.5</text></g></g><g><text x=\"87\" y=\"16\" text-anchor=\"middle\">children[0]</text></g></g><g class=\"vtree-node\" transform=\"translate(9,0)\"><path class=\"vtree-link\" d=\"M83,32C83,79 83,79 83,126\"/><g class=\"vtree-node\" transform=\"translate(83,94)\"><g class=\"vtree-node\" transform=\"translate(-62,0)\"><g transform=\"translate(0,20)\"><g transform=\"translate(0,0)\"><rect class=\"string-text\" x=\"0\" y=\"0\" width=\"44\" height=\"24\"/><text x=\"4\" y=\"20\">name</text></g><g transform=\"translate(44,0)\"><rect class=\"string-text\" x=\"0\" y=\"0\" width=\"79\" height=\"24\"/><text x=\"4\" y=\"20\">Predict: 7.0</text></g></g><g><text x=\"62\" y=\"16\" text-anchor=\"middle\">children[0]</text></g></g></g><g transform=\"translate(0,20)\"><g transform=\"translate(0,0)\"><rect class=\"string-text\" x=\"0\" y=\"0\" width=\"44\" height=\"24\"/><text x=\"4\" y=\"20\">name</text></g><g transform=\"translate(44,0)\"><rect class=\"string-text\" x=\"0\" y=\"0\" width=\"122\" height=\"24\"/><text x=\"4\" y=\"20\">feature 6 &gt; 2116.5</text></g></g><g><text x=\"83\" y=\"16\" text-anchor=\"middle\">children[1]</text></g></g></g><g transform=\"translate(0,20)\"><g transform=\"translate(0,0)\"><rect class=\"string-text\" x=\"0\" y=\"0\" width=\"44\" height=\"24\"/><text x=\"4\" y=\"20\">name</text></g><g transform=\"translate(44,0)\"><rect class=\"string-text\" x=\"0\" y=\"0\" width=\"123\" height=\"24\"/><text x=\"4\" y=\"20\">feature 6 &gt; 2020.0</text></g></g><g><text x=\"84\" y=\"16\" text-anchor=\"middle\">children[1]</text></g></g></g><g transform=\"translate(0,20)\"><g transform=\"translate(0,0)\"><rect class=\"string-text\" x=\"0\" y=\"0\" width=\"44\" height=\"24\"/><text x=\"4\" y=\"20\">name</text></g><g transform=\"translate(44,0)\"><rect class=\"string-text\" x=\"0\" y=\"0\" width=\"123\" height=\"24\"/><text x=\"4\" y=\"20\">feature 6 &gt; 1930.0</text></g></g><g><text x=\"84\" y=\"16\" text-anchor=\"middle\">children[1]</text></g></g></g><g transform=\"translate(0,20)\"><g transform=\"translate(0,0)\"><rect class=\"string-text\" x=\"0\" y=\"0\" width=\"44\" height=\"24\"/><text x=\"4\" y=\"20\">name</text></g><g transform=\"translate(44,0)\"><rect class=\"string-text\" x=\"0\" y=\"0\" width=\"123\" height=\"24\"/><text x=\"4\" y=\"20\">feature 6 &gt; 1785.5</text></g></g><g><text x=\"84\" y=\"16\" text-anchor=\"middle\">children[1]</text></g></g></g><g transform=\"translate(0,20)\"><g transform=\"translate(0,0)\"><rect class=\"string-text\" x=\"0\" y=\"0\" width=\"44\" height=\"24\"/><text x=\"4\" y=\"20\">name</text></g><g transform=\"translate(44,0)\"><rect class=\"string-text\" x=\"0\" y=\"0\" width=\"131\" height=\"24\"/><text x=\"4\" y=\"20\">feature 6 &lt;= 4786.5</text></g></g><g><text x=\"88\" y=\"16\" text-anchor=\"middle\">children[0]</text></g></g><g class=\"vtree-node\" transform=\"translate(902,0)\"><path class=\"vtree-link\" d=\"M84,32C84,79 84,79 84,126\"/><g class=\"vtree-node\" transform=\"translate(84,94)\"><g class=\"vtree-node\" transform=\"translate(-62,0)\"><g transform=\"translate(0,20)\"><g transform=\"translate(0,0)\"><rect class=\"string-text\" x=\"0\" y=\"0\" width=\"44\" height=\"24\"/><text x=\"4\" y=\"20\">name</text></g><g transform=\"translate(44,0)\"><rect class=\"string-text\" x=\"0\" y=\"0\" width=\"79\" height=\"24\"/><text x=\"4\" y=\"20\">Predict: 1.0</text></g></g><g><text x=\"62\" y=\"16\" text-anchor=\"middle\">children[0]</text></g></g></g><g transform=\"translate(0,20)\"><g transform=\"translate(0,0)\"><rect class=\"string-text\" x=\"0\" y=\"0\" width=\"44\" height=\"24\"/><text x=\"4\" y=\"20\">name</text></g><g transform=\"translate(44,0)\"><rect class=\"string-text\" x=\"0\" y=\"0\" width=\"123\" height=\"24\"/><text x=\"4\" y=\"20\">feature 6 &gt; 4786.5</text></g></g><g><text x=\"84\" y=\"16\" text-anchor=\"middle\">children[1]</text></g></g></g><g transform=\"translate(0,0)\"><rect class=\"string-text\" x=\"0\" y=\"0\" width=\"44\" height=\"24\"/><text x=\"4\" y=\"20\">name</text></g><g transform=\"translate(44,0)\"><rect class=\"string-text\" x=\"0\" y=\"0\" width=\"39\" height=\"24\"/><text x=\"4\" y=\"20\">Root</text></g></g></g></g></svg> "
      ],
      "text/plain": [
       "<IPython.core.display.HTML object>"
      ]
     },
     "execution_count": 37,
     "metadata": {},
     "output_type": "execute_result"
    }
   ],
   "source": [
    "from IPython.core.display import HTML\n",
    "HTML(''' <?xml version=\"1.0\" standalone=\"no\"?>\n",
    "<svg xmlns:xlink=\"http://www.w3.org/1999/xlink\" xmlns=\"http://www.w3.org/2000/svg\" class=\"vtree\" width=\"960\" height=\"800\"><style>\n",
    ".vtree-node text { font: 14px sans-serif; }\n",
    ".vtree-link { fill: none; stroke: #888; stroke-width: 2px; }\n",
    ".vtree-table { stroke-width: 2px; stroke: steelblue; }\n",
    "path.vtree-table { fill: white; }\n",
    "g.vtree-node rect { fill: white; stroke: black; stroke-width: 1px; }\n",
    "g.vtree-node rect.number-text { fill: #d8f0ed; }\n",
    "g.vtree-node rect.string-text { fill: #e7f0db; }\n",
    "g.vtree-node rect.boolean-text { fill: #e1d8f0; }\n",
    "g.vtree-node rect.null-text { fill: #888; }\n",
    "</style><g class=\"vtree-root\" transform=\"translate(303.20787372757076,307.79015622520745)scale(0.4106553503760329)\"><g class=\"vtree-node\" transform=\"translate(480,106)\"><g class=\"vtree-node\" transform=\"translate(-42,0)\"><path class=\"vtree-link\" d=\"M42,12C42,59 -46,59 -46,106\"/><g class=\"vtree-node\" transform=\"translate(42,74)\"><path class=\"vtree-link\" d=\"M-88,32C-88,32 986,32 986,32\"/><g class=\"vtree-node\" transform=\"translate(-176,0)\"><path class=\"vtree-link\" d=\"M88,32C88,79 -277,79 -277,126\"/><g class=\"vtree-node\" transform=\"translate(88,94)\"><path class=\"vtree-link\" d=\"M-365,32C-365,32 620,32 620,32\"/><g class=\"vtree-node\" transform=\"translate(-453,0)\"><path class=\"vtree-link\" d=\"M88,32C88,79 -186,79 -186,126\"/><g class=\"vtree-node\" transform=\"translate(88,94)\"><path class=\"vtree-link\" d=\"M-274,32C-274,32 347,32 347,32\"/><g class=\"vtree-node\" transform=\"translate(-362,0)\"><path class=\"vtree-link\" d=\"M88,32C88,79 -85,79 -85,126\"/><g class=\"vtree-node\" transform=\"translate(88,94)\"><path class=\"vtree-link\" d=\"M-173,32C-173,32 174,32 174,32\"/><g class=\"vtree-node\" transform=\"translate(-257,0)\"><path class=\"vtree-link\" d=\"M84,32C84,79 -1,79 -1,126\"/><g class=\"vtree-node\" transform=\"translate(84,94)\"><path class=\"vtree-link\" d=\"M-85,32C-85,32 89,32 89,32\"/><g class=\"vtree-node\" transform=\"translate(-169,0)\"><path class=\"vtree-link\" d=\"M84,32C84,79 84,79 84,126\"/><g class=\"vtree-node\" transform=\"translate(84,94)\"><g class=\"vtree-node\" transform=\"translate(-65,0)\"><g transform=\"translate(0,20)\"><g transform=\"translate(0,0)\"><rect class=\"string-text\" x=\"0\" y=\"0\" width=\"44\" height=\"24\"/><text x=\"4\" y=\"20\">name</text></g><g transform=\"translate(44,0)\"><rect class=\"string-text\" x=\"0\" y=\"0\" width=\"86\" height=\"24\"/><text x=\"4\" y=\"20\">Predict: 11.0</text></g></g><g><text x=\"65\" y=\"16\" text-anchor=\"middle\">children[0]</text></g></g></g><g transform=\"translate(0,20)\"><g transform=\"translate(0,0)\"><rect class=\"string-text\" x=\"0\" y=\"0\" width=\"44\" height=\"24\"/><text x=\"4\" y=\"20\">name</text></g><g transform=\"translate(44,0)\"><rect class=\"string-text\" x=\"0\" y=\"0\" width=\"124\" height=\"24\"/><text x=\"4\" y=\"20\">feature 6 &lt;= 542.0</text></g></g><g><text x=\"84\" y=\"16\" text-anchor=\"middle\">children[0]</text></g></g><g class=\"vtree-node\" transform=\"translate(9,0)\"><path class=\"vtree-link\" d=\"M80,32C80,79 80,79 80,126\"/><g class=\"vtree-node\" transform=\"translate(80,94)\"><g class=\"vtree-node\" transform=\"translate(-62,0)\"><g transform=\"translate(0,20)\"><g transform=\"translate(0,0)\"><rect class=\"string-text\" x=\"0\" y=\"0\" width=\"44\" height=\"24\"/><text x=\"4\" y=\"20\">name</text></g><g transform=\"translate(44,0)\"><rect class=\"string-text\" x=\"0\" y=\"0\" width=\"79\" height=\"24\"/><text x=\"4\" y=\"20\">Predict: 6.0</text></g></g><g><text x=\"62\" y=\"16\" text-anchor=\"middle\">children[0]</text></g></g></g><g transform=\"translate(0,20)\"><g transform=\"translate(0,0)\"><rect class=\"string-text\" x=\"0\" y=\"0\" width=\"44\" height=\"24\"/><text x=\"4\" y=\"20\">name</text></g><g transform=\"translate(44,0)\"><rect class=\"string-text\" x=\"0\" y=\"0\" width=\"115\" height=\"24\"/><text x=\"4\" y=\"20\">feature 6 &gt; 542.0</text></g></g><g><text x=\"80\" y=\"16\" text-anchor=\"middle\">children[1]</text></g></g></g><g transform=\"translate(0,20)\"><g transform=\"translate(0,0)\"><rect class=\"string-text\" x=\"0\" y=\"0\" width=\"44\" height=\"24\"/><text x=\"4\" y=\"20\">name</text></g><g transform=\"translate(44,0)\"><rect class=\"string-text\" x=\"0\" y=\"0\" width=\"124\" height=\"24\"/><text x=\"4\" y=\"20\">feature 6 &lt;= 871.5</text></g></g><g><text x=\"84\" y=\"16\" text-anchor=\"middle\">children[0]</text></g></g><g class=\"vtree-node\" transform=\"translate(94,0)\"><path class=\"vtree-link\" d=\"M80,32C80,79 -5,79 -5,126\"/><g class=\"vtree-node\" transform=\"translate(80,94)\"><path class=\"vtree-link\" d=\"M-85,32C-85,32 89,32 89,32\"/><g class=\"vtree-node\" transform=\"translate(-169,0)\"><path class=\"vtree-link\" d=\"M84,32C84,79 84,79 84,126\"/><g class=\"vtree-node\" transform=\"translate(84,94)\"><g class=\"vtree-node\" transform=\"translate(-62,0)\"><g transform=\"translate(0,20)\"><g transform=\"translate(0,0)\"><rect class=\"string-text\" x=\"0\" y=\"0\" width=\"44\" height=\"24\"/><text x=\"4\" y=\"20\">name</text></g><g transform=\"translate(44,0)\"><rect class=\"string-text\" x=\"0\" y=\"0\" width=\"79\" height=\"24\"/><text x=\"4\" y=\"20\">Predict: 2.0</text></g></g><g><text x=\"62\" y=\"16\" text-anchor=\"middle\">children[0]</text></g></g></g><g transform=\"translate(0,20)\"><g transform=\"translate(0,0)\"><rect class=\"string-text\" x=\"0\" y=\"0\" width=\"44\" height=\"24\"/><text x=\"4\" y=\"20\">name</text></g><g transform=\"translate(44,0)\"><rect class=\"string-text\" x=\"0\" y=\"0\" width=\"124\" height=\"24\"/><text x=\"4\" y=\"20\">feature 6 &lt;= 943.0</text></g></g><g><text x=\"84\" y=\"16\" text-anchor=\"middle\">children[0]</text></g></g><g class=\"vtree-node\" transform=\"translate(9,0)\"><path class=\"vtree-link\" d=\"M80,32C80,79 80,79 80,126\"/><g class=\"vtree-node\" transform=\"translate(80,94)\"><g class=\"vtree-node\" transform=\"translate(-66,0)\"><g transform=\"translate(0,20)\"><g transform=\"translate(0,0)\"><rect class=\"string-text\" x=\"0\" y=\"0\" width=\"44\" height=\"24\"/><text x=\"4\" y=\"20\">name</text></g><g transform=\"translate(44,0)\"><rect class=\"string-text\" x=\"0\" y=\"0\" width=\"87\" height=\"24\"/><text x=\"4\" y=\"20\">Predict: 23.0</text></g></g><g><text x=\"66\" y=\"16\" text-anchor=\"middle\">children[0]</text></g></g></g><g transform=\"translate(0,20)\"><g transform=\"translate(0,0)\"><rect class=\"string-text\" x=\"0\" y=\"0\" width=\"44\" height=\"24\"/><text x=\"4\" y=\"20\">name</text></g><g transform=\"translate(44,0)\"><rect class=\"string-text\" x=\"0\" y=\"0\" width=\"115\" height=\"24\"/><text x=\"4\" y=\"20\">feature 6 &gt; 943.0</text></g></g><g><text x=\"80\" y=\"16\" text-anchor=\"middle\">children[1]</text></g></g></g><g transform=\"translate(0,20)\"><g transform=\"translate(0,0)\"><rect class=\"string-text\" x=\"0\" y=\"0\" width=\"44\" height=\"24\"/><text x=\"4\" y=\"20\">name</text></g><g transform=\"translate(44,0)\"><rect class=\"string-text\" x=\"0\" y=\"0\" width=\"115\" height=\"24\"/><text x=\"4\" y=\"20\">feature 6 &gt; 871.5</text></g></g><g><text x=\"80\" y=\"16\" text-anchor=\"middle\">children[1]</text></g></g></g><g transform=\"translate(0,20)\"><g transform=\"translate(0,0)\"><rect class=\"string-text\" x=\"0\" y=\"0\" width=\"44\" height=\"24\"/><text x=\"4\" y=\"20\">name</text></g><g transform=\"translate(44,0)\"><rect class=\"string-text\" x=\"0\" y=\"0\" width=\"131\" height=\"24\"/><text x=\"4\" y=\"20\">feature 6 &lt;= 1271.5</text></g></g><g><text x=\"88\" y=\"16\" text-anchor=\"middle\">children[0]</text></g></g><g class=\"vtree-node\" transform=\"translate(263,0)\"><path class=\"vtree-link\" d=\"M84,32C84,79 -97,79 -97,126\"/><g class=\"vtree-node\" transform=\"translate(84,94)\"><path class=\"vtree-link\" d=\"M-181,32C-181,32 92,32 92,32\"/><g class=\"vtree-node\" transform=\"translate(-269,0)\"><path class=\"vtree-link\" d=\"M88,32C88,79 88,79 88,126\"/><g class=\"vtree-node\" transform=\"translate(88,94)\"><g class=\"vtree-node\" transform=\"translate(-62,0)\"><g transform=\"translate(0,20)\"><g transform=\"translate(0,0)\"><rect class=\"string-text\" x=\"0\" y=\"0\" width=\"44\" height=\"24\"/><text x=\"4\" y=\"20\">name</text></g><g transform=\"translate(44,0)\"><rect class=\"string-text\" x=\"0\" y=\"0\" width=\"79\" height=\"24\"/><text x=\"4\" y=\"20\">Predict: 0.0</text></g></g><g><text x=\"62\" y=\"16\" text-anchor=\"middle\">children[0]</text></g></g></g><g transform=\"translate(0,20)\"><g transform=\"translate(0,0)\"><rect class=\"string-text\" x=\"0\" y=\"0\" width=\"44\" height=\"24\"/><text x=\"4\" y=\"20\">name</text></g><g transform=\"translate(44,0)\"><rect class=\"string-text\" x=\"0\" y=\"0\" width=\"131\" height=\"24\"/><text x=\"4\" y=\"20\">feature 6 &lt;= 1412.0</text></g></g><g><text x=\"88\" y=\"16\" text-anchor=\"middle\">children[0]</text></g></g><g class=\"vtree-node\" transform=\"translate(8,0)\"><path class=\"vtree-link\" d=\"M84,32C84,79 -4,79 -4,126\"/><g class=\"vtree-node\" transform=\"translate(84,94)\"><path class=\"vtree-link\" d=\"M-88,32C-88,32 93,32 93,32\"/><g class=\"vtree-node\" transform=\"translate(-176,0)\"><path class=\"vtree-link\" d=\"M88,32C88,79 88,79 88,126\"/><g class=\"vtree-node\" transform=\"translate(88,94)\"><g class=\"vtree-node\" transform=\"translate(-66,0)\"><g transform=\"translate(0,20)\"><g transform=\"translate(0,0)\"><rect class=\"string-text\" x=\"0\" y=\"0\" width=\"44\" height=\"24\"/><text x=\"4\" y=\"20\">name</text></g><g transform=\"translate(44,0)\"><rect class=\"string-text\" x=\"0\" y=\"0\" width=\"87\" height=\"24\"/><text x=\"4\" y=\"20\">Predict: 15.0</text></g></g><g><text x=\"66\" y=\"16\" text-anchor=\"middle\">children[0]</text></g></g></g><g transform=\"translate(0,20)\"><g transform=\"translate(0,0)\"><rect class=\"string-text\" x=\"0\" y=\"0\" width=\"44\" height=\"24\"/><text x=\"4\" y=\"20\">name</text></g><g transform=\"translate(44,0)\"><rect class=\"string-text\" x=\"0\" y=\"0\" width=\"131\" height=\"24\"/><text x=\"4\" y=\"20\">feature 6 &lt;= 1531.5</text></g></g><g><text x=\"88\" y=\"16\" text-anchor=\"middle\">children[0]</text></g></g><g class=\"vtree-node\" transform=\"translate(9,0)\"><path class=\"vtree-link\" d=\"M84,32C84,79 84,79 84,126\"/><g class=\"vtree-node\" transform=\"translate(84,94)\"><g class=\"vtree-node\" transform=\"translate(-62,0)\"><g transform=\"translate(0,20)\"><g transform=\"translate(0,0)\"><rect class=\"string-text\" x=\"0\" y=\"0\" width=\"44\" height=\"24\"/><text x=\"4\" y=\"20\">name</text></g><g transform=\"translate(44,0)\"><rect class=\"string-text\" x=\"0\" y=\"0\" width=\"79\" height=\"24\"/><text x=\"4\" y=\"20\">Predict: 9.0</text></g></g><g><text x=\"62\" y=\"16\" text-anchor=\"middle\">children[0]</text></g></g></g><g transform=\"translate(0,20)\"><g transform=\"translate(0,0)\"><rect class=\"string-text\" x=\"0\" y=\"0\" width=\"44\" height=\"24\"/><text x=\"4\" y=\"20\">name</text></g><g transform=\"translate(44,0)\"><rect class=\"string-text\" x=\"0\" y=\"0\" width=\"123\" height=\"24\"/><text x=\"4\" y=\"20\">feature 6 &gt; 1531.5</text></g></g><g><text x=\"84\" y=\"16\" text-anchor=\"middle\">children[1]</text></g></g></g><g transform=\"translate(0,20)\"><g transform=\"translate(0,0)\"><rect class=\"string-text\" x=\"0\" y=\"0\" width=\"44\" height=\"24\"/><text x=\"4\" y=\"20\">name</text></g><g transform=\"translate(44,0)\"><rect class=\"string-text\" x=\"0\" y=\"0\" width=\"123\" height=\"24\"/><text x=\"4\" y=\"20\">feature 6 &gt; 1412.0</text></g></g><g><text x=\"84\" y=\"16\" text-anchor=\"middle\">children[1]</text></g></g></g><g transform=\"translate(0,20)\"><g transform=\"translate(0,0)\"><rect class=\"string-text\" x=\"0\" y=\"0\" width=\"44\" height=\"24\"/><text x=\"4\" y=\"20\">name</text></g><g transform=\"translate(44,0)\"><rect class=\"string-text\" x=\"0\" y=\"0\" width=\"123\" height=\"24\"/><text x=\"4\" y=\"20\">feature 6 &gt; 1271.5</text></g></g><g><text x=\"84\" y=\"16\" text-anchor=\"middle\">children[1]</text></g></g></g><g transform=\"translate(0,20)\"><g transform=\"translate(0,0)\"><rect class=\"string-text\" x=\"0\" y=\"0\" width=\"44\" height=\"24\"/><text x=\"4\" y=\"20\">name</text></g><g transform=\"translate(44,0)\"><rect class=\"string-text\" x=\"0\" y=\"0\" width=\"131\" height=\"24\"/><text x=\"4\" y=\"20\">feature 6 &lt;= 1785.5</text></g></g><g><text x=\"88\" y=\"16\" text-anchor=\"middle\">children[0]</text></g></g><g class=\"vtree-node\" transform=\"translate(536,0)\"><path class=\"vtree-link\" d=\"M84,32C84,79 -188,79 -188,126\"/><g class=\"vtree-node\" transform=\"translate(84,94)\"><path class=\"vtree-link\" d=\"M-272,32C-272,32 93,32 93,32\"/><g class=\"vtree-node\" transform=\"translate(-360,0)\"><path class=\"vtree-link\" d=\"M88,32C88,79 88,79 88,126\"/><g class=\"vtree-node\" transform=\"translate(88,94)\"><g class=\"vtree-node\" transform=\"translate(-62,0)\"><g transform=\"translate(0,20)\"><g transform=\"translate(0,0)\"><rect class=\"string-text\" x=\"0\" y=\"0\" width=\"44\" height=\"24\"/><text x=\"4\" y=\"20\">name</text></g><g transform=\"translate(44,0)\"><rect class=\"string-text\" x=\"0\" y=\"0\" width=\"79\" height=\"24\"/><text x=\"4\" y=\"20\">Predict: 4.0</text></g></g><g><text x=\"62\" y=\"16\" text-anchor=\"middle\">children[0]</text></g></g></g><g transform=\"translate(0,20)\"><g transform=\"translate(0,0)\"><rect class=\"string-text\" x=\"0\" y=\"0\" width=\"44\" height=\"24\"/><text x=\"4\" y=\"20\">name</text></g><g transform=\"translate(44,0)\"><rect class=\"string-text\" x=\"0\" y=\"0\" width=\"131\" height=\"24\"/><text x=\"4\" y=\"20\">feature 6 &lt;= 1930.0</text></g></g><g><text x=\"88\" y=\"16\" text-anchor=\"middle\">children[0]</text></g></g><g class=\"vtree-node\" transform=\"translate(9,0)\"><path class=\"vtree-link\" d=\"M84,32C84,79 -96,79 -96,126\"/><g class=\"vtree-node\" transform=\"translate(84,94)\"><path class=\"vtree-link\" d=\"M-180,32C-180,32 92,32 92,32\"/><g class=\"vtree-node\" transform=\"translate(-268,0)\"><path class=\"vtree-link\" d=\"M88,32C88,79 88,79 88,126\"/><g class=\"vtree-node\" transform=\"translate(88,94)\"><g class=\"vtree-node\" transform=\"translate(-62,0)\"><g transform=\"translate(0,20)\"><g transform=\"translate(0,0)\"><rect class=\"string-text\" x=\"0\" y=\"0\" width=\"44\" height=\"24\"/><text x=\"4\" y=\"20\">name</text></g><g transform=\"translate(44,0)\"><rect class=\"string-text\" x=\"0\" y=\"0\" width=\"79\" height=\"24\"/><text x=\"4\" y=\"20\">Predict: 5.0</text></g></g><g><text x=\"62\" y=\"16\" text-anchor=\"middle\">children[0]</text></g></g></g><g transform=\"translate(0,20)\"><g transform=\"translate(0,0)\"><rect class=\"string-text\" x=\"0\" y=\"0\" width=\"44\" height=\"24\"/><text x=\"4\" y=\"20\">name</text></g><g transform=\"translate(44,0)\"><rect class=\"string-text\" x=\"0\" y=\"0\" width=\"131\" height=\"24\"/><text x=\"4\" y=\"20\">feature 6 &lt;= 2020.0</text></g></g><g><text x=\"88\" y=\"16\" text-anchor=\"middle\">children[0]</text></g></g><g class=\"vtree-node\" transform=\"translate(8,0)\"><path class=\"vtree-link\" d=\"M84,32C84,79 -4,79 -4,126\"/><g class=\"vtree-node\" transform=\"translate(84,94)\"><path class=\"vtree-link\" d=\"M-88,32C-88,32 92,32 92,32\"/><g class=\"vtree-node\" transform=\"translate(-175,0)\"><path class=\"vtree-link\" d=\"M87,32C87,79 87,79 87,126\"/><g class=\"vtree-node\" transform=\"translate(87,94)\"><g class=\"vtree-node\" transform=\"translate(-62,0)\"><g transform=\"translate(0,20)\"><g transform=\"translate(0,0)\"><rect class=\"string-text\" x=\"0\" y=\"0\" width=\"44\" height=\"24\"/><text x=\"4\" y=\"20\">name</text></g><g transform=\"translate(44,0)\"><rect class=\"string-text\" x=\"0\" y=\"0\" width=\"79\" height=\"24\"/><text x=\"4\" y=\"20\">Predict: 3.0</text></g></g><g><text x=\"62\" y=\"16\" text-anchor=\"middle\">children[0]</text></g></g></g><g transform=\"translate(0,20)\"><g transform=\"translate(0,0)\"><rect class=\"string-text\" x=\"0\" y=\"0\" width=\"44\" height=\"24\"/><text x=\"4\" y=\"20\">name</text></g><g transform=\"translate(44,0)\"><rect class=\"string-text\" x=\"0\" y=\"0\" width=\"130\" height=\"24\"/><text x=\"4\" y=\"20\">feature 6 &lt;= 2116.5</text></g></g><g><text x=\"87\" y=\"16\" text-anchor=\"middle\">children[0]</text></g></g><g class=\"vtree-node\" transform=\"translate(9,0)\"><path class=\"vtree-link\" d=\"M83,32C83,79 83,79 83,126\"/><g class=\"vtree-node\" transform=\"translate(83,94)\"><g class=\"vtree-node\" transform=\"translate(-62,0)\"><g transform=\"translate(0,20)\"><g transform=\"translate(0,0)\"><rect class=\"string-text\" x=\"0\" y=\"0\" width=\"44\" height=\"24\"/><text x=\"4\" y=\"20\">name</text></g><g transform=\"translate(44,0)\"><rect class=\"string-text\" x=\"0\" y=\"0\" width=\"79\" height=\"24\"/><text x=\"4\" y=\"20\">Predict: 7.0</text></g></g><g><text x=\"62\" y=\"16\" text-anchor=\"middle\">children[0]</text></g></g></g><g transform=\"translate(0,20)\"><g transform=\"translate(0,0)\"><rect class=\"string-text\" x=\"0\" y=\"0\" width=\"44\" height=\"24\"/><text x=\"4\" y=\"20\">name</text></g><g transform=\"translate(44,0)\"><rect class=\"string-text\" x=\"0\" y=\"0\" width=\"122\" height=\"24\"/><text x=\"4\" y=\"20\">feature 6 &gt; 2116.5</text></g></g><g><text x=\"83\" y=\"16\" text-anchor=\"middle\">children[1]</text></g></g></g><g transform=\"translate(0,20)\"><g transform=\"translate(0,0)\"><rect class=\"string-text\" x=\"0\" y=\"0\" width=\"44\" height=\"24\"/><text x=\"4\" y=\"20\">name</text></g><g transform=\"translate(44,0)\"><rect class=\"string-text\" x=\"0\" y=\"0\" width=\"123\" height=\"24\"/><text x=\"4\" y=\"20\">feature 6 &gt; 2020.0</text></g></g><g><text x=\"84\" y=\"16\" text-anchor=\"middle\">children[1]</text></g></g></g><g transform=\"translate(0,20)\"><g transform=\"translate(0,0)\"><rect class=\"string-text\" x=\"0\" y=\"0\" width=\"44\" height=\"24\"/><text x=\"4\" y=\"20\">name</text></g><g transform=\"translate(44,0)\"><rect class=\"string-text\" x=\"0\" y=\"0\" width=\"123\" height=\"24\"/><text x=\"4\" y=\"20\">feature 6 &gt; 1930.0</text></g></g><g><text x=\"84\" y=\"16\" text-anchor=\"middle\">children[1]</text></g></g></g><g transform=\"translate(0,20)\"><g transform=\"translate(0,0)\"><rect class=\"string-text\" x=\"0\" y=\"0\" width=\"44\" height=\"24\"/><text x=\"4\" y=\"20\">name</text></g><g transform=\"translate(44,0)\"><rect class=\"string-text\" x=\"0\" y=\"0\" width=\"123\" height=\"24\"/><text x=\"4\" y=\"20\">feature 6 &gt; 1785.5</text></g></g><g><text x=\"84\" y=\"16\" text-anchor=\"middle\">children[1]</text></g></g></g><g transform=\"translate(0,20)\"><g transform=\"translate(0,0)\"><rect class=\"string-text\" x=\"0\" y=\"0\" width=\"44\" height=\"24\"/><text x=\"4\" y=\"20\">name</text></g><g transform=\"translate(44,0)\"><rect class=\"string-text\" x=\"0\" y=\"0\" width=\"131\" height=\"24\"/><text x=\"4\" y=\"20\">feature 6 &lt;= 4786.5</text></g></g><g><text x=\"88\" y=\"16\" text-anchor=\"middle\">children[0]</text></g></g><g class=\"vtree-node\" transform=\"translate(902,0)\"><path class=\"vtree-link\" d=\"M84,32C84,79 84,79 84,126\"/><g class=\"vtree-node\" transform=\"translate(84,94)\"><g class=\"vtree-node\" transform=\"translate(-62,0)\"><g transform=\"translate(0,20)\"><g transform=\"translate(0,0)\"><rect class=\"string-text\" x=\"0\" y=\"0\" width=\"44\" height=\"24\"/><text x=\"4\" y=\"20\">name</text></g><g transform=\"translate(44,0)\"><rect class=\"string-text\" x=\"0\" y=\"0\" width=\"79\" height=\"24\"/><text x=\"4\" y=\"20\">Predict: 1.0</text></g></g><g><text x=\"62\" y=\"16\" text-anchor=\"middle\">children[0]</text></g></g></g><g transform=\"translate(0,20)\"><g transform=\"translate(0,0)\"><rect class=\"string-text\" x=\"0\" y=\"0\" width=\"44\" height=\"24\"/><text x=\"4\" y=\"20\">name</text></g><g transform=\"translate(44,0)\"><rect class=\"string-text\" x=\"0\" y=\"0\" width=\"123\" height=\"24\"/><text x=\"4\" y=\"20\">feature 6 &gt; 4786.5</text></g></g><g><text x=\"84\" y=\"16\" text-anchor=\"middle\">children[1]</text></g></g></g><g transform=\"translate(0,0)\"><rect class=\"string-text\" x=\"0\" y=\"0\" width=\"44\" height=\"24\"/><text x=\"4\" y=\"20\">name</text></g><g transform=\"translate(44,0)\"><rect class=\"string-text\" x=\"0\" y=\"0\" width=\"39\" height=\"24\"/><text x=\"4\" y=\"20\">Root</text></g></g></g></g></svg> ''')"
   ]
  },
  {
   "cell_type": "markdown",
   "id": "725b534e",
   "metadata": {},
   "source": [
    "## Random Forest"
   ]
  },
  {
   "cell_type": "code",
   "execution_count": 38,
   "id": "ae92d6a0",
   "metadata": {},
   "outputs": [],
   "source": [
    "from pyspark.ml.classification import RandomForestClassifier\n",
    "from pyspark.ml.feature import \\\n",
    "    IndexToString, StringIndexer, VectorIndexer"
   ]
  },
  {
   "cell_type": "code",
   "execution_count": 39,
   "id": "df7cc523",
   "metadata": {},
   "outputs": [],
   "source": [
    "rf_model = RandomForestClassifier(featuresCol = 'inputFeatures',labelCol='Make_Indexed', numTrees=100,maxBins=71)"
   ]
  },
  {
   "cell_type": "code",
   "execution_count": 40,
   "id": "ffde7ebd",
   "metadata": {},
   "outputs": [],
   "source": [
    "rf_train_results = rf_model.fit(df_dt_training)"
   ]
  },
  {
   "cell_type": "code",
   "execution_count": 41,
   "id": "9433ef2f",
   "metadata": {},
   "outputs": [],
   "source": [
    "rf_train_predictions = rf_train_results.transform(df_dt_training)"
   ]
  },
  {
   "cell_type": "code",
   "execution_count": 42,
   "id": "b99210a1",
   "metadata": {},
   "outputs": [
    {
     "name": "stdout",
     "output_type": "stream",
     "text": [
      "+---------+------------+----------+--------------------+\n",
      "|     Make|Make_Indexed|prediction|         probability|\n",
      "+---------+------------+----------+--------------------+\n",
      "|   Nissan|         5.0|       5.0|[0.09887635151786...|\n",
      "| Chrysler|        23.0|       2.0|[0.11282958624826...|\n",
      "|    Dodge|         4.0|       4.0|[0.10216876665138...|\n",
      "| Plymouth|        31.0|      11.0|[0.08720464747909...|\n",
      "| Chrysler|        23.0|       0.0|[0.11736766646356...|\n",
      "| Chrysler|        23.0|       0.0|[0.11736766646356...|\n",
      "| Plymouth|        31.0|      11.0|[0.08762081285151...|\n",
      "|    Dodge|         4.0|       4.0|[0.10133104016475...|\n",
      "|Chevrolet|         0.0|       0.0|[0.19258867260080...|\n",
      "|   Suzuki|        11.0|      11.0|[0.08734172412172...|\n",
      "|   Suzuki|        11.0|      11.0|[0.08734172412172...|\n",
      "|   Suzuki|        11.0|      11.0|[0.08734172412172...|\n",
      "|   Suzuki|        11.0|      11.0|[0.08734172412172...|\n",
      "|      Kia|        19.0|       0.0|[0.13119123581125...|\n",
      "|      Kia|        19.0|       0.0|[0.13220282682166...|\n",
      "|     Ford|         1.0|       1.0|[0.03219968356581...|\n",
      "|   Suzuki|        11.0|      11.0|[0.08734172412172...|\n",
      "|   Suzuki|        11.0|      11.0|[0.08734172412172...|\n",
      "|   Toyota|         3.0|       3.0|[0.07312597533882...|\n",
      "|   Toyota|         3.0|       3.0|[0.07312597533882...|\n",
      "+---------+------------+----------+--------------------+\n",
      "only showing top 20 rows\n",
      "\n"
     ]
    }
   ],
   "source": [
    "rf_train_predictions.select(\"Make\",'Make_Indexed', \n",
    "                   'prediction', 'probability').show()"
   ]
  },
  {
   "cell_type": "code",
   "execution_count": 43,
   "id": "f830fb39",
   "metadata": {},
   "outputs": [
    {
     "data": {
      "text/plain": [
       "65.14926953207707"
      ]
     },
     "execution_count": 43,
     "metadata": {},
     "output_type": "execute_result"
    }
   ],
   "source": [
    "# Evaluating the results\n",
    "evaluator = MulticlassClassificationEvaluator(\n",
    "    labelCol=\"Make_Indexed\", predictionCol=\"prediction\", \n",
    "    metricName=\"accuracy\")\n",
    "\n",
    "accuracy = evaluator.evaluate(rf_train_predictions)\n",
    "accuracy*100"
   ]
  },
  {
   "cell_type": "code",
   "execution_count": 44,
   "id": "dc906aac",
   "metadata": {},
   "outputs": [
    {
     "name": "stdout",
     "output_type": "stream",
     "text": [
      "+-----------------------+---+---+----+----+----+----+----+----+----+----+----+---+----+----+----+---+----+----+----+----+----+---+---+---+---+---+---+\n",
      "|Make_Indexed_prediction|0.0|1.0|10.0|11.0|12.0|13.0|14.0|15.0|16.0|17.0|18.0|2.0|26.0|27.0|28.0|3.0|30.0|32.0|33.0|36.0|37.0|4.0|5.0|6.0|7.0|8.0|9.0|\n",
      "+-----------------------+---+---+----+----+----+----+----+----+----+----+----+---+----+----+----+---+----+----+----+----+----+---+---+---+---+---+---+\n",
      "|                    0.0|892|  0|   0|   0|   0|   0|   0|   0|   0|   0|   0| 14|   0|   0|   0|  0|   0|   0|   0|   0|   0|  0|  0|  0|  0|  0|  0|\n",
      "|                    5.0|  9|  0|   0|   0|   0|   0|   7|   0|   3|   0|   0| 25|   0|   0|   0| 23|   0|   0|   0|   0|   0| 17|335|  0|  0|  0|  7|\n",
      "|                   10.0| 47|  0| 202|   0|   0|   0|   1|   0|   6|   0|   0| 17|   0|   0|   0|  0|   0|   0|   0|   0|   0|  0|  0|  0|  0|  0|  5|\n",
      "|                   42.0|  0|  0|   3|   0|   0|   0|   0|   0|   0|   0|   0|  0|   0|   0|   0|  0|   0|   0|   0|   0|   0|  0|  0|  0|  0|  0|  0|\n",
      "|                   24.0| 90|  0|   0|  32|   0|   2|   0|   0|   0|   0|   0| 18|   0|   0|   0|  0|   0|   0|   0|   0|   0|  0|  0|  0|  0|  0|  0|\n",
      "+-----------------------+---+---+----+----+----+----+----+----+----+----+----+---+----+----+----+---+----+----+----+----+----+---+---+---+---+---+---+\n",
      "only showing top 5 rows\n",
      "\n"
     ]
    }
   ],
   "source": [
    "rf_train_predictions.crosstab(\"Make_Indexed\",\"prediction\").show(5)"
   ]
  },
  {
   "cell_type": "code",
   "execution_count": 45,
   "id": "523f837e",
   "metadata": {},
   "outputs": [],
   "source": [
    "rf_trainResults = rf_train_predictions.crosstab(\"Make_Indexed\",\"prediction\")"
   ]
  },
  {
   "cell_type": "code",
   "execution_count": 46,
   "id": "4e261f9b",
   "metadata": {},
   "outputs": [
    {
     "name": "stdout",
     "output_type": "stream",
     "text": [
      "+-----------------------+---+---+----+----+----+----+----+----+----+----+----+---+----+----+----+---+----+----+----+----+----+---+---+---+---+---+---+\n",
      "|Make_Indexed_prediction|0.0|1.0|10.0|11.0|12.0|13.0|14.0|15.0|16.0|17.0|18.0|2.0|26.0|27.0|28.0|3.0|30.0|32.0|33.0|36.0|37.0|4.0|5.0|6.0|7.0|8.0|9.0|\n",
      "+-----------------------+---+---+----+----+----+----+----+----+----+----+----+---+----+----+----+---+----+----+----+----+----+---+---+---+---+---+---+\n",
      "|                    0.0|892|  0|   0|   0|   0|   0|   0|   0|   0|   0|   0| 14|   0|   0|   0|  0|   0|   0|   0|   0|   0|  0|  0|  0|  0|  0|  0|\n",
      "|                    5.0|  9|  0|   0|   0|   0|   0|   7|   0|   3|   0|   0| 25|   0|   0|   0| 23|   0|   0|   0|   0|   0| 17|335|  0|  0|  0|  7|\n",
      "|                   10.0| 47|  0| 202|   0|   0|   0|   1|   0|   6|   0|   0| 17|   0|   0|   0|  0|   0|   0|   0|   0|   0|  0|  0|  0|  0|  0|  5|\n",
      "|                   42.0|  0|  0|   3|   0|   0|   0|   0|   0|   0|   0|   0|  0|   0|   0|   0|  0|   0|   0|   0|   0|   0|  0|  0|  0|  0|  0|  0|\n",
      "|                   24.0| 90|  0|   0|  32|   0|   2|   0|   0|   0|   0|   0| 18|   0|   0|   0|  0|   0|   0|   0|   0|   0|  0|  0|  0|  0|  0|  0|\n",
      "+-----------------------+---+---+----+----+----+----+----+----+----+----+----+---+----+----+----+---+----+----+----+----+----+---+---+---+---+---+---+\n",
      "only showing top 5 rows\n",
      "\n"
     ]
    }
   ],
   "source": [
    "rf_trainResults.show(5)"
   ]
  },
  {
   "cell_type": "markdown",
   "id": "2c2eaa32",
   "metadata": {},
   "source": [
    "#### Test"
   ]
  },
  {
   "cell_type": "code",
   "execution_count": 47,
   "id": "6fe2bec8",
   "metadata": {},
   "outputs": [
    {
     "name": "stdout",
     "output_type": "stream",
     "text": [
      "+----------+------------+----------+--------------------+\n",
      "|      Make|Make_Indexed|prediction|         probability|\n",
      "+----------+------------+----------+--------------------+\n",
      "|Oldsmobile|        26.0|      26.0|[0.07265858164322...|\n",
      "|Oldsmobile|        26.0|      26.0|[0.07265858164322...|\n",
      "|  Chrysler|        23.0|       0.0|[0.11911693271094...|\n",
      "|     Dodge|         4.0|       4.0|[0.10091487479233...|\n",
      "| Chevrolet|         0.0|       0.0|[0.17910183556356...|\n",
      "| Chevrolet|         0.0|       0.0|[0.18155475152299...|\n",
      "|    Suzuki|        11.0|      11.0|[0.08734172412172...|\n",
      "|      Ford|         1.0|       1.0|[0.03219968356581...|\n",
      "|    Suzuki|        11.0|      11.0|[0.08643424596572...|\n",
      "|    Suzuki|        11.0|       2.0|[0.08395422198258...|\n",
      "|    Nissan|         5.0|       5.0|[0.12290839899913...|\n",
      "|    Toyota|         3.0|       3.0|[0.06892162365777...|\n",
      "|       Kia|        19.0|       0.0|[0.15116989051457...|\n",
      "|     Honda|         7.0|       7.0|[0.04083321135032...|\n",
      "|       Kia|        19.0|       0.0|[0.13753366954154...|\n",
      "|     Mazda|         8.0|       2.0|[0.09379305402249...|\n",
      "|Mitsubishi|        20.0|       2.0|[0.08510112497183...|\n",
      "|   Hyundai|        15.0|       0.0|[0.13018695611576...|\n",
      "|    Nissan|         5.0|       5.0|[0.12290839899913...|\n",
      "|    Toyota|         3.0|       3.0|[0.06892162365777...|\n",
      "+----------+------------+----------+--------------------+\n",
      "only showing top 20 rows\n",
      "\n"
     ]
    }
   ],
   "source": [
    "rf_test_predictions = rf_train_results.transform(df_dt_test)\n",
    "\n",
    "rf_test_predictions.select(\"Make\",'Make_Indexed', \n",
    "                   'prediction', 'probability').show()"
   ]
  },
  {
   "cell_type": "code",
   "execution_count": 48,
   "id": "4698dc8c",
   "metadata": {},
   "outputs": [
    {
     "data": {
      "text/plain": [
       "66.35672020287406"
      ]
     },
     "execution_count": 48,
     "metadata": {},
     "output_type": "execute_result"
    }
   ],
   "source": [
    "# Evaluating the results\n",
    "evaluator = MulticlassClassificationEvaluator(\n",
    "    labelCol=\"Make_Indexed\", predictionCol=\"prediction\", \n",
    "    metricName=\"accuracy\")\n",
    "\n",
    "accuracy = evaluator.evaluate(rf_test_predictions)\n",
    "accuracy*100"
   ]
  },
  {
   "cell_type": "code",
   "execution_count": 49,
   "id": "3dce09fc",
   "metadata": {},
   "outputs": [
    {
     "name": "stdout",
     "output_type": "stream",
     "text": [
      "+-----------------------+---+---+----+----+----+----+----+----+----+----+----+---+----+----+----+---+----+----+----+----+----+---+---+---+---+---+---+\n",
      "|Make_Indexed_prediction|0.0|1.0|10.0|11.0|12.0|13.0|14.0|15.0|16.0|17.0|18.0|2.0|26.0|27.0|28.0|3.0|30.0|32.0|33.0|36.0|37.0|4.0|5.0|6.0|7.0|8.0|9.0|\n",
      "+-----------------------+---+---+----+----+----+----+----+----+----+----+----+---+----+----+----+---+----+----+----+----+----+---+---+---+---+---+---+\n",
      "|                    0.0|204|  0|   0|   0|   0|   0|   0|   0|   0|   0|   0|  5|   0|   0|   0|  0|   0|   0|   0|   0|   0|  0|  0|  0|  0|  0|  0|\n",
      "|                    5.0|  3|  0|   0|   0|   0|   0|   1|   0|   1|   0|   0|  5|   0|   0|   0| 15|   0|   0|   0|   0|   0|  7| 89|  0|  0|  0|  1|\n",
      "|                   10.0|  8|  0|  59|   0|   0|   0|   0|   0|   1|   0|   0|  3|   0|   0|   0|  0|   0|   0|   0|   0|   0|  0|  0|  0|  0|  0|  3|\n",
      "|                   42.0|  0|  0|   2|   0|   0|   0|   0|   0|   0|   0|   0|  0|   0|   0|   0|  0|   0|   0|   0|   0|   0|  0|  0|  0|  0|  0|  0|\n",
      "|                   24.0| 28|  0|   0|   8|   0|   0|   0|   0|   0|   0|   0|  8|   0|   0|   0|  0|   0|   0|   0|   0|   0|  0|  0|  0|  0|  0|  0|\n",
      "+-----------------------+---+---+----+----+----+----+----+----+----+----+----+---+----+----+----+---+----+----+----+----+----+---+---+---+---+---+---+\n",
      "only showing top 5 rows\n",
      "\n"
     ]
    }
   ],
   "source": [
    "rf_testResults = rf_test_predictions.crosstab(\"Make_Indexed\",\"prediction\")\n",
    "rf_testResults.show(5)"
   ]
  },
  {
   "cell_type": "markdown",
   "id": "68d18ac1",
   "metadata": {},
   "source": [
    "\n",
    "# <span style=\"color:blue\">Gradient Tree Boosting</span>\n"
   ]
  },
  {
   "cell_type": "code",
   "execution_count": 50,
   "id": "f034861e",
   "metadata": {},
   "outputs": [
    {
     "name": "stdout",
     "output_type": "stream",
     "text": [
      "+-------------+-----+\n",
      "|         Make|count|\n",
      "+-------------+-----+\n",
      "|    Chevrolet| 1115|\n",
      "|         Ford|  868|\n",
      "|   Volkswagen|  805|\n",
      "|       Toyota|  743|\n",
      "|        Dodge|  626|\n",
      "|       Nissan|  548|\n",
      "|          GMC|  515|\n",
      "|        Honda|  447|\n",
      "|        Mazda|  403|\n",
      "|     Cadillac|  397|\n",
      "|Mercedes-Benz|  352|\n",
      "|       Suzuki|  348|\n",
      "|          BMW|  334|\n",
      "|     Infiniti|  330|\n",
      "|         Audi|  328|\n",
      "|      Hyundai|  303|\n",
      "|        Volvo|  281|\n",
      "|       Subaru|  256|\n",
      "|        Acura|  252|\n",
      "|          Kia|  226|\n",
      "+-------------+-----+\n",
      "only showing top 20 rows\n",
      "\n"
     ]
    }
   ],
   "source": [
    "from pyspark.ml.classification import GBTClassifier\n",
    "from pyspark.ml import Pipeline\n",
    "from pyspark.ml.feature import StringIndexer, VectorIndexer\n",
    "from pyspark.ml.evaluation import MulticlassClassificationEvaluator\n",
    "\n",
    "model_df.groupBy(\"Make\").count().sort(\"count\",ascending=False).show()"
   ]
  },
  {
   "cell_type": "markdown",
   "id": "26724a2a",
   "metadata": {},
   "source": [
    "##### We'll try to differentiate the two biggest american car makers"
   ]
  },
  {
   "cell_type": "code",
   "execution_count": 51,
   "id": "0b7ac7d2",
   "metadata": {},
   "outputs": [
    {
     "name": "stdout",
     "output_type": "stream",
     "text": [
      "+---------+-----+\n",
      "|     Make|count|\n",
      "+---------+-----+\n",
      "|Chevrolet| 1115|\n",
      "|     Ford|  868|\n",
      "+---------+-----+\n",
      "\n"
     ]
    }
   ],
   "source": [
    "df_2_Biggest_Car_Makers = model_df.filter((model_df.Make == \"Chevrolet\") | (model_df.Make == \"Ford\"))\n",
    "df_2_Biggest_Car_Makers.groupBy(\"Make\").count().show()"
   ]
  },
  {
   "cell_type": "code",
   "execution_count": 52,
   "id": "da33cada",
   "metadata": {},
   "outputs": [],
   "source": [
    "# Train a GBT model\n",
    "\n",
    "gbt = GBTClassifier(\n",
    "    featuresCol = 'inputFeatures',labelCol='Make_Indexed',\n",
    "    maxDepth=15,\n",
    "    maxIter=30,maxBins=71)"
   ]
  },
  {
   "cell_type": "code",
   "execution_count": 53,
   "id": "85c30b36",
   "metadata": {},
   "outputs": [
    {
     "data": {
      "text/plain": [
       "(1573, 410)"
      ]
     },
     "execution_count": 53,
     "metadata": {},
     "output_type": "execute_result"
    }
   ],
   "source": [
    "df_gtb_training, df_gtb_test = df_2_Biggest_Car_Makers.randomSplit(\n",
    "    [0.8, 0.2], seed = 5902)\n",
    "\n",
    "(df_gtb_training.count(), df_gtb_test.count())"
   ]
  },
  {
   "cell_type": "code",
   "execution_count": 54,
   "id": "db48bcbd",
   "metadata": {},
   "outputs": [],
   "source": [
    "gbt_model = gbt.fit(df_gtb_training)\n",
    "gbt_train_predictions = gbt_model.transform(df_gtb_training)"
   ]
  },
  {
   "cell_type": "code",
   "execution_count": 55,
   "id": "e6a06809",
   "metadata": {
    "scrolled": true
   },
   "outputs": [
    {
     "data": {
      "text/plain": [
       "100.0"
      ]
     },
     "execution_count": 55,
     "metadata": {},
     "output_type": "execute_result"
    }
   ],
   "source": [
    "# Evaluating the results\n",
    "evaluator = MulticlassClassificationEvaluator(\n",
    "    labelCol=\"Make_Indexed\", predictionCol=\"prediction\", \n",
    "    metricName=\"accuracy\")\n",
    "\n",
    "accuracy = evaluator.evaluate(gbt_train_predictions)\n",
    "accuracy*100"
   ]
  },
  {
   "cell_type": "code",
   "execution_count": 56,
   "id": "08dc7031",
   "metadata": {},
   "outputs": [
    {
     "data": {
      "text/plain": [
       "100.0"
      ]
     },
     "execution_count": 56,
     "metadata": {},
     "output_type": "execute_result"
    }
   ],
   "source": [
    "# Evaluating the results\n",
    "evaluator = MulticlassClassificationEvaluator(\n",
    "    labelCol=\"Make_Indexed\", predictionCol=\"prediction\", \n",
    "    metricName=\"accuracy\")\n",
    "\n",
    "accuracy = evaluator.evaluate(gbt_train_predictions)\n",
    "accuracy*100"
   ]
  },
  {
   "cell_type": "markdown",
   "id": "60be1148",
   "metadata": {},
   "source": [
    "#### Test"
   ]
  },
  {
   "cell_type": "code",
   "execution_count": 57,
   "id": "8b6cc24d",
   "metadata": {},
   "outputs": [
    {
     "data": {
      "text/plain": [
       "100.0"
      ]
     },
     "execution_count": 57,
     "metadata": {},
     "output_type": "execute_result"
    }
   ],
   "source": [
    "gbt_test_predictions = gbt_model.transform(df_gtb_test)\n",
    "# Evaluating the results\n",
    "evaluator = MulticlassClassificationEvaluator(\n",
    "    labelCol=\"Make_Indexed\", predictionCol=\"prediction\", \n",
    "    metricName=\"accuracy\")\n",
    "\n",
    "accuracy = evaluator.evaluate(gbt_test_predictions)\n",
    "accuracy*100"
   ]
  },
  {
   "cell_type": "code",
   "execution_count": 58,
   "id": "7a230391",
   "metadata": {},
   "outputs": [
    {
     "name": "stdout",
     "output_type": "stream",
     "text": [
      "+-----------------------+---+---+\n",
      "|Make_Indexed_prediction|0.0|1.0|\n",
      "+-----------------------+---+---+\n",
      "|                    1.0|  0|701|\n",
      "|                    0.0|872|  0|\n",
      "+-----------------------+---+---+\n",
      "\n"
     ]
    }
   ],
   "source": [
    "gbt_train_predictions.crosstab(\"Make_Indexed\",\"prediction\").show()"
   ]
  },
  {
   "cell_type": "code",
   "execution_count": 59,
   "id": "134df3ac",
   "metadata": {},
   "outputs": [
    {
     "name": "stdout",
     "output_type": "stream",
     "text": [
      "+----------+-----+\n",
      "|      Make|count|\n",
      "+----------+-----+\n",
      "|Volkswagen|  805|\n",
      "|    Toyota|  743|\n",
      "+----------+-----+\n",
      "\n"
     ]
    }
   ],
   "source": [
    "df_2_Biggest_Car_Makers_NoUs = model_df.filter((model_df.Make == \"Volkswagen\") | (model_df.Make == \"Toyota\"))\n",
    "df_2_Biggest_Car_Makers_NoUs.groupBy(\"Make\").count().show()"
   ]
  },
  {
   "cell_type": "code",
   "execution_count": 60,
   "id": "4a789581",
   "metadata": {},
   "outputs": [
    {
     "name": "stdout",
     "output_type": "stream",
     "text": [
      "+------+------------+\n",
      "|  Make|Make_Indexed|\n",
      "+------+------------+\n",
      "|Toyota|         3.0|\n",
      "|Toyota|         3.0|\n",
      "|Toyota|         3.0|\n",
      "|Toyota|         3.0|\n",
      "|Toyota|         3.0|\n",
      "|Toyota|         3.0|\n",
      "|Toyota|         3.0|\n",
      "|Toyota|         3.0|\n",
      "|Toyota|         3.0|\n",
      "|Toyota|         3.0|\n",
      "|Toyota|         3.0|\n",
      "|Toyota|         3.0|\n",
      "|Toyota|         3.0|\n",
      "|Toyota|         3.0|\n",
      "|Toyota|         3.0|\n",
      "|Toyota|         3.0|\n",
      "|Toyota|         3.0|\n",
      "|Toyota|         3.0|\n",
      "|Toyota|         3.0|\n",
      "|Toyota|         3.0|\n",
      "+------+------------+\n",
      "only showing top 20 rows\n",
      "\n"
     ]
    }
   ],
   "source": [
    "df_2_Biggest_Car_Makers_NoUs.filter(df_2_Biggest_Car_Makers_NoUs.Make ==\"Toyota\").select(\"Make\",\"Make_Indexed\").show()"
   ]
  },
  {
   "cell_type": "code",
   "execution_count": 61,
   "id": "ea861083",
   "metadata": {},
   "outputs": [
    {
     "name": "stdout",
     "output_type": "stream",
     "text": [
      "+----------+------------+\n",
      "|      Make|Make_Indexed|\n",
      "+----------+------------+\n",
      "|Volkswagen|         2.0|\n",
      "|Volkswagen|         2.0|\n",
      "|Volkswagen|         2.0|\n",
      "|Volkswagen|         2.0|\n",
      "|Volkswagen|         2.0|\n",
      "|Volkswagen|         2.0|\n",
      "|Volkswagen|         2.0|\n",
      "|Volkswagen|         2.0|\n",
      "|Volkswagen|         2.0|\n",
      "|Volkswagen|         2.0|\n",
      "|Volkswagen|         2.0|\n",
      "|Volkswagen|         2.0|\n",
      "|Volkswagen|         2.0|\n",
      "|Volkswagen|         2.0|\n",
      "|Volkswagen|         2.0|\n",
      "|Volkswagen|         2.0|\n",
      "|Volkswagen|         2.0|\n",
      "|Volkswagen|         2.0|\n",
      "|Volkswagen|         2.0|\n",
      "|Volkswagen|         2.0|\n",
      "+----------+------------+\n",
      "only showing top 20 rows\n",
      "\n"
     ]
    }
   ],
   "source": [
    "df_2_Biggest_Car_Makers_NoUs.filter(df_2_Biggest_Car_Makers_NoUs.Make ==\"Volkswagen\").select(\"Make\",\"Make_Indexed\").show()"
   ]
  },
  {
   "cell_type": "code",
   "execution_count": 62,
   "id": "309792c1",
   "metadata": {},
   "outputs": [],
   "source": [
    "df_2_Biggest_Car_Makers_NoUs=df_2_Biggest_Car_Makers_NoUs.withColumn(\"Make_Indexed\",col(\"Make_Indexed\")-2)"
   ]
  },
  {
   "cell_type": "code",
   "execution_count": 63,
   "id": "9f2fa8d1",
   "metadata": {},
   "outputs": [
    {
     "name": "stdout",
     "output_type": "stream",
     "text": [
      "+----------+------------+\n",
      "|      Make|Make_Indexed|\n",
      "+----------+------------+\n",
      "|Volkswagen|         0.0|\n",
      "|Volkswagen|         0.0|\n",
      "|Volkswagen|         0.0|\n",
      "|Volkswagen|         0.0|\n",
      "|Volkswagen|         0.0|\n",
      "|Volkswagen|         0.0|\n",
      "|Volkswagen|         0.0|\n",
      "|Volkswagen|         0.0|\n",
      "|Volkswagen|         0.0|\n",
      "|Volkswagen|         0.0|\n",
      "|Volkswagen|         0.0|\n",
      "|Volkswagen|         0.0|\n",
      "|Volkswagen|         0.0|\n",
      "|Volkswagen|         0.0|\n",
      "|Volkswagen|         0.0|\n",
      "|Volkswagen|         0.0|\n",
      "|Volkswagen|         0.0|\n",
      "|Volkswagen|         0.0|\n",
      "|Volkswagen|         0.0|\n",
      "|Volkswagen|         0.0|\n",
      "+----------+------------+\n",
      "only showing top 20 rows\n",
      "\n"
     ]
    }
   ],
   "source": [
    "df_2_Biggest_Car_Makers_NoUs.filter(df_2_Biggest_Car_Makers_NoUs.Make ==\"Volkswagen\").select(\"Make\",\"Make_Indexed\").show()"
   ]
  },
  {
   "cell_type": "code",
   "execution_count": 64,
   "id": "bffae4a4",
   "metadata": {},
   "outputs": [],
   "source": [
    "# Train a GBT model\n",
    "\n",
    "gbt2 = GBTClassifier(\n",
    "    featuresCol = 'inputFeatures',labelCol='Make_Indexed',\n",
    "    maxDepth=15,\n",
    "    maxIter=30,maxBins=71)"
   ]
  },
  {
   "cell_type": "code",
   "execution_count": 65,
   "id": "592c507b",
   "metadata": {},
   "outputs": [
    {
     "data": {
      "text/plain": [
       "(1232, 316)"
      ]
     },
     "execution_count": 65,
     "metadata": {},
     "output_type": "execute_result"
    }
   ],
   "source": [
    "df_gtb_training2, df_gtb_test2 = df_2_Biggest_Car_Makers_NoUs.randomSplit(\n",
    "    [0.8, 0.2], seed = 5902)\n",
    "\n",
    "(df_gtb_training2.count(), df_gtb_test2.count())"
   ]
  },
  {
   "cell_type": "code",
   "execution_count": 66,
   "id": "abb88aa1",
   "metadata": {},
   "outputs": [],
   "source": [
    "gbt_model2 = gbt2.fit(df_gtb_training2)\n",
    "gbt_train_predictions2 = gbt_model2.transform(df_gtb_training2)"
   ]
  },
  {
   "cell_type": "code",
   "execution_count": 67,
   "id": "86cb5829",
   "metadata": {},
   "outputs": [
    {
     "data": {
      "text/plain": [
       "100.0"
      ]
     },
     "execution_count": 67,
     "metadata": {},
     "output_type": "execute_result"
    }
   ],
   "source": [
    "# Evaluating the results\n",
    "evaluator = MulticlassClassificationEvaluator(\n",
    "    labelCol=\"Make_Indexed\", predictionCol=\"prediction\", \n",
    "    metricName=\"accuracy\")\n",
    "\n",
    "accuracy = evaluator.evaluate(gbt_train_predictions2)\n",
    "accuracy*100"
   ]
  },
  {
   "cell_type": "code",
   "execution_count": 68,
   "id": "055c15e7",
   "metadata": {},
   "outputs": [],
   "source": [
    "gbt_test_predictions2 = gbt_model2.transform(df_gtb_test2)"
   ]
  },
  {
   "cell_type": "code",
   "execution_count": 69,
   "id": "c1f56ab6",
   "metadata": {},
   "outputs": [
    {
     "data": {
      "text/plain": [
       "100.0"
      ]
     },
     "execution_count": 69,
     "metadata": {},
     "output_type": "execute_result"
    }
   ],
   "source": [
    "# Evaluating the results\n",
    "evaluator = MulticlassClassificationEvaluator(\n",
    "    labelCol=\"Make_Indexed\", predictionCol=\"prediction\", \n",
    "    metricName=\"accuracy\")\n",
    "\n",
    "accuracy = evaluator.evaluate(gbt_test_predictions2)\n",
    "accuracy*100"
   ]
  },
  {
   "cell_type": "code",
   "execution_count": 70,
   "id": "63458a5c",
   "metadata": {},
   "outputs": [
    {
     "name": "stdout",
     "output_type": "stream",
     "text": [
      "+-----------------------+---+---+\n",
      "|Make_Indexed_prediction|0.0|1.0|\n",
      "+-----------------------+---+---+\n",
      "|                    1.0|  0|161|\n",
      "|                    0.0|155|  0|\n",
      "+-----------------------+---+---+\n",
      "\n"
     ]
    }
   ],
   "source": [
    "gbt_test_predictions2.crosstab(\"Make_Indexed\",\"prediction\").show()"
   ]
  },
  {
   "cell_type": "markdown",
   "id": "51418b6f",
   "metadata": {},
   "source": [
    "# <span style=\"color:Orange\">Unsupervised Learning</span>\n",
    "\n",
    "\n",
    "# <span style=\"color:blue\">K-means models</span>\n"
   ]
  },
  {
   "cell_type": "code",
   "execution_count": 71,
   "id": "31d3dcea",
   "metadata": {},
   "outputs": [],
   "source": [
    "import matplotlib.pyplot as plt\n",
    "import seaborn as sns\n",
    "sns.set_style('whitegrid')\n",
    "from pyspark.ml.clustering import KMeans\n",
    "from pyspark.ml.evaluation import ClusteringEvaluator\n",
    "from pyspark.ml.feature import StandardScaler"
   ]
  },
  {
   "cell_type": "code",
   "execution_count": 72,
   "id": "a79c1495",
   "metadata": {},
   "outputs": [
    {
     "data": {
      "text/plain": [
       "[array([2.01029108e+03, 2.38007658e+02, 5.47249362e+00, 3.47055717e+00,\n",
       "        2.66214242e+01, 1.96131503e+01, 1.57380081e+03, 3.17869680e+04,\n",
       "        7.30569492e-01, 3.45744213e-01, 1.02112490e+00, 5.73629082e+00,\n",
       "        8.30824751e-01, 3.31889798e+00]),\n",
       " array([2.01217528e+03, 5.35391011e+02, 1.00539326e+01, 2.47191011e+00,\n",
       "        1.88067416e+01, 1.21932584e+01, 1.05250337e+03, 2.43657960e+05,\n",
       "        1.26966292e+00, 7.93258427e-01, 1.37303371e+00, 1.84112360e+01,\n",
       "        9.19101124e-01, 1.87865169e+00]),\n",
       " array([2.00933333e+03, 8.15500000e+02, 1.40000000e+01, 2.66666667e+00,\n",
       "        1.46666667e+01, 8.83333333e+00, 6.25333333e+02, 1.58907017e+06,\n",
       "        1.00000000e+00, 1.33333333e+00, 1.66666667e+00, 1.43333333e+01,\n",
       "        6.66666667e-01, 2.33333333e+00])]"
      ]
     },
     "execution_count": 72,
     "metadata": {},
     "output_type": "execute_result"
    }
   ],
   "source": [
    "vecAssembler = VectorAssembler(inputCols=['Year', 'Engine HP', 'Engine Cylinders', \n",
    "                                          'Number of Doors', 'highway MPG', 'city mpg',\n",
    "                                          'Popularity','MSRP',\n",
    "                                          'Engine Fuel Type Indexed',\n",
    "                                          \"Transmission Type Indexed\",\n",
    "                                          \"Driven_Wheels Indexed\",\n",
    "                                          \"Market Category Indexed\",\n",
    "                                          \"Vehicle Size Indexed\",\n",
    "                                          \"Vehicle Style Indexed\"], \n",
    "                               outputCol='features')\n",
    "kmeans = KMeans(k = 3, seed = 777)\n",
    "pipeline = Pipeline(stages = [vecAssembler, kmeans])\n",
    "pipeline_model = pipeline.fit(features_df)\n",
    "centers = pipeline_model.stages[-1].clusterCenters()\n",
    "centers"
   ]
  },
  {
   "cell_type": "code",
   "execution_count": 73,
   "id": "4a14d762",
   "metadata": {},
   "outputs": [
    {
     "name": "stdout",
     "output_type": "stream",
     "text": [
      "+----+----------+------+---------+----------------+---------------+-----------+--------+----------+-------+------------------------+-------------------------+---------------------+-----------------------+--------------------+---------------------+------------+--------------------+\n",
      "|Make|     Model|  Year|Engine HP|Engine Cylinders|Number of Doors|highway MPG|city mpg|Popularity|   MSRP|Engine Fuel Type Indexed|Transmission Type Indexed|Driven_Wheels Indexed|Market Category Indexed|Vehicle Size Indexed|Vehicle Style Indexed|Make_Indexed|       inputFeatures|\n",
      "+----+----------+------+---------+----------------+---------------+-----------+--------+----------+-------+------------------------+-------------------------+---------------------+-----------------------+--------------------+---------------------+------------+--------------------+\n",
      "| BMW|1 Series M|2011.0|    335.0|             6.0|            2.0|       26.0|    19.0|    3916.0|46135.0|                     1.0|                      1.0|                  1.0|                   11.0|                 0.0|                  2.0|        12.0|[2011.0,335.0,6.0...|\n",
      "| BMW|  1 Series|2011.0|    300.0|             6.0|            2.0|       28.0|    19.0|    3916.0|40650.0|                     1.0|                      1.0|                  1.0|                    4.0|                 0.0|                  3.0|        12.0|[2011.0,300.0,6.0...|\n",
      "| BMW|  1 Series|2011.0|    300.0|             6.0|            2.0|       28.0|    20.0|    3916.0|36350.0|                     1.0|                      1.0|                  1.0|                    8.0|                 0.0|                  2.0|        12.0|[2011.0,300.0,6.0...|\n",
      "+----+----------+------+---------+----------------+---------------+-----------+--------+----------+-------+------------------------+-------------------------+---------------------+-----------------------+--------------------+---------------------+------------+--------------------+\n",
      "only showing top 3 rows\n",
      "\n"
     ]
    }
   ],
   "source": [
    "features_df.show(3)"
   ]
  },
  {
   "cell_type": "markdown",
   "id": "a40b70b6",
   "metadata": {},
   "source": [
    "# silhoutte coeff"
   ]
  },
  {
   "cell_type": "code",
   "execution_count": 74,
   "id": "6780cf18",
   "metadata": {},
   "outputs": [
    {
     "name": "stdout",
     "output_type": "stream",
     "text": [
      "+----------+-----+\n",
      "|prediction|count|\n",
      "+----------+-----+\n",
      "|         0|11361|\n",
      "|         1|  445|\n",
      "|         2|    6|\n",
      "+----------+-----+\n",
      "\n"
     ]
    }
   ],
   "source": [
    "predictions = pipeline_model.transform(features_df)\n",
    "predictions.groupBy(\n",
    "    'prediction').count().orderBy(\n",
    "    'prediction').show()"
   ]
  },
  {
   "cell_type": "code",
   "execution_count": 75,
   "id": "b8c9cd03",
   "metadata": {},
   "outputs": [
    {
     "name": "stdout",
     "output_type": "stream",
     "text": [
      "Silhouette with squared euclidean distance = 0.9623571160236818\n"
     ]
    }
   ],
   "source": [
    "evaluator = ClusteringEvaluator()\n",
    "silhouette = evaluator.evaluate(predictions)\n",
    "print(\"Silhouette with squared euclidean distance =\",str(silhouette))"
   ]
  },
  {
   "cell_type": "markdown",
   "id": "5c926d38",
   "metadata": {},
   "source": [
    "# visualization"
   ]
  },
  {
   "cell_type": "code",
   "execution_count": 76,
   "id": "1de857b3",
   "metadata": {},
   "outputs": [
    {
     "data": {
      "text/html": [
       "<div>\n",
       "<style scoped>\n",
       "    .dataframe tbody tr th:only-of-type {\n",
       "        vertical-align: middle;\n",
       "    }\n",
       "\n",
       "    .dataframe tbody tr th {\n",
       "        vertical-align: top;\n",
       "    }\n",
       "\n",
       "    .dataframe thead th {\n",
       "        text-align: right;\n",
       "    }\n",
       "</style>\n",
       "<table border=\"1\" class=\"dataframe\">\n",
       "  <thead>\n",
       "    <tr style=\"text-align: right;\">\n",
       "      <th></th>\n",
       "      <th>Year</th>\n",
       "      <th>Engine HP</th>\n",
       "      <th>Engine Cylinders</th>\n",
       "      <th>Number of Doors</th>\n",
       "      <th>highway MPG</th>\n",
       "      <th>city mpg</th>\n",
       "      <th>Popularity</th>\n",
       "      <th>MSRP</th>\n",
       "      <th>Engine Fuel Type Indexed</th>\n",
       "      <th>Transmission Type Indexed</th>\n",
       "      <th>Driven_Wheels Indexed</th>\n",
       "      <th>Market Category Indexed</th>\n",
       "      <th>Vehicle Size Indexed</th>\n",
       "      <th>Vehicle Style Indexed</th>\n",
       "      <th>prediction</th>\n",
       "    </tr>\n",
       "  </thead>\n",
       "  <tbody>\n",
       "    <tr>\n",
       "      <th>0</th>\n",
       "      <td>2011.0</td>\n",
       "      <td>335.0</td>\n",
       "      <td>6.0</td>\n",
       "      <td>2.0</td>\n",
       "      <td>26.0</td>\n",
       "      <td>19.0</td>\n",
       "      <td>3916.0</td>\n",
       "      <td>46135.0</td>\n",
       "      <td>1.0</td>\n",
       "      <td>1.0</td>\n",
       "      <td>1.0</td>\n",
       "      <td>11.0</td>\n",
       "      <td>0.0</td>\n",
       "      <td>2.0</td>\n",
       "      <td>0</td>\n",
       "    </tr>\n",
       "    <tr>\n",
       "      <th>1</th>\n",
       "      <td>2011.0</td>\n",
       "      <td>300.0</td>\n",
       "      <td>6.0</td>\n",
       "      <td>2.0</td>\n",
       "      <td>28.0</td>\n",
       "      <td>19.0</td>\n",
       "      <td>3916.0</td>\n",
       "      <td>40650.0</td>\n",
       "      <td>1.0</td>\n",
       "      <td>1.0</td>\n",
       "      <td>1.0</td>\n",
       "      <td>4.0</td>\n",
       "      <td>0.0</td>\n",
       "      <td>3.0</td>\n",
       "      <td>0</td>\n",
       "    </tr>\n",
       "    <tr>\n",
       "      <th>2</th>\n",
       "      <td>2011.0</td>\n",
       "      <td>300.0</td>\n",
       "      <td>6.0</td>\n",
       "      <td>2.0</td>\n",
       "      <td>28.0</td>\n",
       "      <td>20.0</td>\n",
       "      <td>3916.0</td>\n",
       "      <td>36350.0</td>\n",
       "      <td>1.0</td>\n",
       "      <td>1.0</td>\n",
       "      <td>1.0</td>\n",
       "      <td>8.0</td>\n",
       "      <td>0.0</td>\n",
       "      <td>2.0</td>\n",
       "      <td>0</td>\n",
       "    </tr>\n",
       "    <tr>\n",
       "      <th>3</th>\n",
       "      <td>2011.0</td>\n",
       "      <td>230.0</td>\n",
       "      <td>6.0</td>\n",
       "      <td>2.0</td>\n",
       "      <td>28.0</td>\n",
       "      <td>18.0</td>\n",
       "      <td>3916.0</td>\n",
       "      <td>29450.0</td>\n",
       "      <td>1.0</td>\n",
       "      <td>1.0</td>\n",
       "      <td>1.0</td>\n",
       "      <td>4.0</td>\n",
       "      <td>0.0</td>\n",
       "      <td>2.0</td>\n",
       "      <td>0</td>\n",
       "    </tr>\n",
       "    <tr>\n",
       "      <th>4</th>\n",
       "      <td>2011.0</td>\n",
       "      <td>230.0</td>\n",
       "      <td>6.0</td>\n",
       "      <td>2.0</td>\n",
       "      <td>28.0</td>\n",
       "      <td>18.0</td>\n",
       "      <td>3916.0</td>\n",
       "      <td>34500.0</td>\n",
       "      <td>1.0</td>\n",
       "      <td>1.0</td>\n",
       "      <td>1.0</td>\n",
       "      <td>3.0</td>\n",
       "      <td>0.0</td>\n",
       "      <td>3.0</td>\n",
       "      <td>0</td>\n",
       "    </tr>\n",
       "  </tbody>\n",
       "</table>\n",
       "</div>"
      ],
      "text/plain": [
       "     Year  Engine HP  Engine Cylinders  Number of Doors  highway MPG  \\\n",
       "0  2011.0      335.0               6.0              2.0         26.0   \n",
       "1  2011.0      300.0               6.0              2.0         28.0   \n",
       "2  2011.0      300.0               6.0              2.0         28.0   \n",
       "3  2011.0      230.0               6.0              2.0         28.0   \n",
       "4  2011.0      230.0               6.0              2.0         28.0   \n",
       "\n",
       "   city mpg  Popularity     MSRP  Engine Fuel Type Indexed  \\\n",
       "0      19.0      3916.0  46135.0                       1.0   \n",
       "1      19.0      3916.0  40650.0                       1.0   \n",
       "2      20.0      3916.0  36350.0                       1.0   \n",
       "3      18.0      3916.0  29450.0                       1.0   \n",
       "4      18.0      3916.0  34500.0                       1.0   \n",
       "\n",
       "   Transmission Type Indexed  Driven_Wheels Indexed  Market Category Indexed  \\\n",
       "0                        1.0                    1.0                     11.0   \n",
       "1                        1.0                    1.0                      4.0   \n",
       "2                        1.0                    1.0                      8.0   \n",
       "3                        1.0                    1.0                      4.0   \n",
       "4                        1.0                    1.0                      3.0   \n",
       "\n",
       "   Vehicle Size Indexed  Vehicle Style Indexed  prediction  \n",
       "0                   0.0                    2.0           0  \n",
       "1                   0.0                    3.0           0  \n",
       "2                   0.0                    2.0           0  \n",
       "3                   0.0                    2.0           0  \n",
       "4                   0.0                    3.0           0  "
      ]
     },
     "execution_count": 76,
     "metadata": {},
     "output_type": "execute_result"
    }
   ],
   "source": [
    "pandasDF = predictions.select('Year', 'Engine HP', 'Engine Cylinders', \n",
    "                              'Number of Doors', 'highway MPG', 'city mpg',\n",
    "                              'Popularity','MSRP',\n",
    "                              'Engine Fuel Type Indexed',\n",
    "                              \"Transmission Type Indexed\",\n",
    "                              \"Driven_Wheels Indexed\",\n",
    "                              \"Market Category Indexed\",\n",
    "                              \"Vehicle Size Indexed\",\n",
    "                              \"Vehicle Style Indexed\",'prediction').toPandas()\n",
    "\n",
    "pandasDF.head(5)"
   ]
  },
  {
   "cell_type": "code",
   "execution_count": 77,
   "id": "72c0a037",
   "metadata": {},
   "outputs": [
    {
     "data": {
      "image/png": "[encoded data removed]",
      "text/plain": [
       "<Figure size 420.675x360 with 1 Axes>"
      ]
     },
     "metadata": {},
     "output_type": "display_data"
    }
   ],
   "source": [
    "sns.relplot(x=\"Engine HP\", y=\"MSRP\", hue=\"prediction\", \n",
    "            style=\"prediction\", \n",
    "            size=\"prediction\",\n",
    "            data=pandasDF);\n",
    "\n",
    "plt.scatter([c[1] for c in centers], \n",
    "            [c[7] for c in centers], \n",
    "            c='red', s=64, alpha=0.8);"
   ]
  },
  {
   "cell_type": "markdown",
   "id": "1a442a14",
   "metadata": {},
   "source": [
    "\n",
    "# <span style=\"color:blue\">PCA for dimension reduction</span>\n"
   ]
  },
  {
   "cell_type": "code",
   "execution_count": 78,
   "id": "1605d9b9",
   "metadata": {},
   "outputs": [],
   "source": [
    "from pyspark.ml.feature import PCA\n",
    "from pyspark.ml.linalg  import Vectors\n",
    "from pyspark.ml.functions import vector_to_array"
   ]
  },
  {
   "cell_type": "code",
   "execution_count": 79,
   "id": "b791c753",
   "metadata": {},
   "outputs": [
    {
     "name": "stdout",
     "output_type": "stream",
     "text": [
      "+--------------------+------------+----+\n",
      "|       inputFeatures|Make_Indexed|Make|\n",
      "+--------------------+------------+----+\n",
      "|[1992.0,172.0,6.0...|        14.0|Audi|\n",
      "|[1992.0,172.0,6.0...|        14.0|Audi|\n",
      "|[1992.0,172.0,6.0...|        14.0|Audi|\n",
      "|[1992.0,172.0,6.0...|        14.0|Audi|\n",
      "|[1992.0,172.0,6.0...|        14.0|Audi|\n",
      "+--------------------+------------+----+\n",
      "only showing top 5 rows\n",
      "\n"
     ]
    },
    {
     "name": "stderr",
     "output_type": "stream",
     "text": [
      "/opt/anaconda3/lib/python3.8/site-packages/pyspark/sql/dataframe.py:138: FutureWarning: Deprecated in 2.0, use createOrReplaceTempView instead.\n",
      "  warnings.warn(\n"
     ]
    }
   ],
   "source": [
    "model_df.registerTempTable('model_df')\n",
    "df = sqlContext.sql(\"\"\"select *\n",
    "        from model_df \n",
    "        where \n",
    "        Make == 'Audi' or Make == 'Porsche' or Make == 'Volkswagen'\"\"\")\n",
    "df.show(5)"
   ]
  },
  {
   "cell_type": "markdown",
   "id": "4f334480",
   "metadata": {},
   "source": [
    "###### PCA is used here to go from high dimensional data to low. PCA is good in our model as it might reduce the number of independent variable to work with."
   ]
  },
  {
   "cell_type": "markdown",
   "id": "5c12d9ab",
   "metadata": {},
   "source": [
    "##### The first model has k = 3 number of components that we desire to see in the final output"
   ]
  },
  {
   "cell_type": "code",
   "execution_count": 80,
   "id": "47aa8092",
   "metadata": {},
   "outputs": [
    {
     "name": "stdout",
     "output_type": "stream",
     "text": [
      "+------------------------------------------------------------+----+\n",
      "|pcaFeatures                                                 |Make|\n",
      "+------------------------------------------------------------+----+\n",
      "|[-0.719035040030388,-2.4237249176539284,2.3392415863344103] |Audi|\n",
      "|[-0.719035040030388,-2.4237249176539284,2.3392415863344103] |Audi|\n",
      "|[-1.3398992025374572,-3.3419524616964336,1.8662559918527832]|Audi|\n",
      "|[-0.719035040030388,-2.4237249176539284,2.3392415863344103] |Audi|\n",
      "|[-1.7183658141816678,-2.43172777786835,2.3664775232138435]  |Audi|\n",
      "+------------------------------------------------------------+----+\n",
      "only showing top 5 rows\n",
      "\n"
     ]
    }
   ],
   "source": [
    "scaler = StandardScaler(inputCol=\"inputFeatures\", outputCol=\"scaledFeatures\",\n",
    "                        withStd=True, withMean=True)\n",
    "pca = PCA(k=3, inputCol=\"scaledFeatures\", outputCol=\"pcaFeatures\") #k is responsible here for the desired number of variables in final output\n",
    "pipeline = Pipeline(stages = [scaler, pca])\n",
    "model_1 = pipeline.fit(df)\n",
    "scaledDF = model_1.transform(df).select('pcaFeatures', 'Make')\n",
    "scaledDF.show(5, truncate=False)"
   ]
  },
  {
   "cell_type": "code",
   "execution_count": 81,
   "id": "a9209000",
   "metadata": {},
   "outputs": [
    {
     "data": {
      "text/plain": [
       "0.6058723721975503"
      ]
     },
     "execution_count": 81,
     "metadata": {},
     "output_type": "execute_result"
    }
   ],
   "source": [
    "model_1.stages[-1].explainedVariance.sum()"
   ]
  },
  {
   "cell_type": "markdown",
   "id": "4c1aec02",
   "metadata": {},
   "source": [
    "##### The second model has k = 5 number of components that we desire to see in the final output"
   ]
  },
  {
   "cell_type": "code",
   "execution_count": 82,
   "id": "5a1951d6",
   "metadata": {},
   "outputs": [
    {
     "name": "stdout",
     "output_type": "stream",
     "text": [
      "+-------------------------------------------------------------------------------------------------+----+\n",
      "|pcaFeatures                                                                                      |Make|\n",
      "+-------------------------------------------------------------------------------------------------+----+\n",
      "|[-0.719035040030388,-2.4237249176539284,2.3392415863344103,-1.3075089748609252,2.273540493715606]|Audi|\n",
      "|[-0.719035040030388,-2.4237249176539284,2.3392415863344103,-1.3075089748609252,2.273540493715606]|Audi|\n",
      "|[-1.3398992025374572,-3.3419524616964336,1.8662559918527832,-2.36069660061017,0.9575983232218006]|Audi|\n",
      "|[-0.719035040030388,-2.4237249176539284,2.3392415863344103,-1.3075089748609252,2.273540493715606]|Audi|\n",
      "|[-1.7183658141816678,-2.43172777786835,2.3664775232138435,-1.7528686152495871,2.44258448190184]  |Audi|\n",
      "+-------------------------------------------------------------------------------------------------+----+\n",
      "only showing top 5 rows\n",
      "\n"
     ]
    }
   ],
   "source": [
    "scaler = StandardScaler(inputCol=\"inputFeatures\", outputCol=\"scaledFeatures\",\n",
    "                        withStd=True, withMean=True)\n",
    "pca = PCA(k = 5, inputCol=\"scaledFeatures\", outputCol=\"pcaFeatures\") #k is responsible here for the desired number of variables in final output\n",
    "pipeline = Pipeline(stages = [scaler, pca])\n",
    "model_2 = pipeline.fit(df)\n",
    "scaledDF = model_2.transform(df).select('pcaFeatures', 'Make')\n",
    "scaledDF.show(5, truncate=False)"
   ]
  },
  {
   "cell_type": "code",
   "execution_count": 83,
   "id": "fcada1af",
   "metadata": {},
   "outputs": [
    {
     "data": {
      "text/plain": [
       "0.7562987603092939"
      ]
     },
     "execution_count": 83,
     "metadata": {},
     "output_type": "execute_result"
    }
   ],
   "source": [
    "model_2.stages[-1].explainedVariance.sum()"
   ]
  },
  {
   "cell_type": "markdown",
   "id": "7c397345",
   "metadata": {},
   "source": [
    "#### As it's seen, the more number of components we choose, the more variance of initial variables is covered. When we go from 3 number of components to 5, the more variance of initial parameters is covered."
   ]
  },
  {
   "cell_type": "code",
   "execution_count": 84,
   "id": "c0a20714",
   "metadata": {},
   "outputs": [
    {
     "name": "stdout",
     "output_type": "stream",
     "text": [
      "+-------------------+-------------------+------------------+----+\n",
      "|                PC1|                PC2|               PC3|Make|\n",
      "+-------------------+-------------------+------------------+----+\n",
      "| -0.719035040030388|-2.4237249176539284|2.3392415863344103|Audi|\n",
      "| -0.719035040030388|-2.4237249176539284|2.3392415863344103|Audi|\n",
      "|-1.3398992025374572|-3.3419524616964336|1.8662559918527832|Audi|\n",
      "| -0.719035040030388|-2.4237249176539284|2.3392415863344103|Audi|\n",
      "|-1.7183658141816678|  -2.43172777786835|2.3664775232138435|Audi|\n",
      "+-------------------+-------------------+------------------+----+\n",
      "only showing top 5 rows\n",
      "\n"
     ]
    }
   ],
   "source": [
    "pcaDF = scaledDF.withColumn(\n",
    "    'PC1', vector_to_array('pcaFeatures')[0]\n",
    ").withColumn(\n",
    "    'PC2', vector_to_array('pcaFeatures')[1]\n",
    ").withColumn(\n",
    "    'PC3', vector_to_array('pcaFeatures')[2]\n",
    ").select('PC1', 'PC2', 'PC3', 'Make')\n",
    "pcaDF.show(5)"
   ]
  },
  {
   "cell_type": "code",
   "execution_count": 85,
   "id": "65e27f45",
   "metadata": {},
   "outputs": [
    {
     "data": {
      "text/html": [
       "<div>\n",
       "<style scoped>\n",
       "    .dataframe tbody tr th:only-of-type {\n",
       "        vertical-align: middle;\n",
       "    }\n",
       "\n",
       "    .dataframe tbody tr th {\n",
       "        vertical-align: top;\n",
       "    }\n",
       "\n",
       "    .dataframe thead th {\n",
       "        text-align: right;\n",
       "    }\n",
       "</style>\n",
       "<table border=\"1\" class=\"dataframe\">\n",
       "  <thead>\n",
       "    <tr style=\"text-align: right;\">\n",
       "      <th></th>\n",
       "      <th>PC1</th>\n",
       "      <th>PC2</th>\n",
       "      <th>PC3</th>\n",
       "      <th>Make</th>\n",
       "    </tr>\n",
       "  </thead>\n",
       "  <tbody>\n",
       "    <tr>\n",
       "      <th>0</th>\n",
       "      <td>-0.719035</td>\n",
       "      <td>-2.423725</td>\n",
       "      <td>2.339242</td>\n",
       "      <td>Audi</td>\n",
       "    </tr>\n",
       "    <tr>\n",
       "      <th>1</th>\n",
       "      <td>-0.719035</td>\n",
       "      <td>-2.423725</td>\n",
       "      <td>2.339242</td>\n",
       "      <td>Audi</td>\n",
       "    </tr>\n",
       "    <tr>\n",
       "      <th>2</th>\n",
       "      <td>-1.339899</td>\n",
       "      <td>-3.341952</td>\n",
       "      <td>1.866256</td>\n",
       "      <td>Audi</td>\n",
       "    </tr>\n",
       "    <tr>\n",
       "      <th>3</th>\n",
       "      <td>-0.719035</td>\n",
       "      <td>-2.423725</td>\n",
       "      <td>2.339242</td>\n",
       "      <td>Audi</td>\n",
       "    </tr>\n",
       "    <tr>\n",
       "      <th>4</th>\n",
       "      <td>-1.718366</td>\n",
       "      <td>-2.431728</td>\n",
       "      <td>2.366478</td>\n",
       "      <td>Audi</td>\n",
       "    </tr>\n",
       "  </tbody>\n",
       "</table>\n",
       "</div>"
      ],
      "text/plain": [
       "        PC1       PC2       PC3  Make\n",
       "0 -0.719035 -2.423725  2.339242  Audi\n",
       "1 -0.719035 -2.423725  2.339242  Audi\n",
       "2 -1.339899 -3.341952  1.866256  Audi\n",
       "3 -0.719035 -2.423725  2.339242  Audi\n",
       "4 -1.718366 -2.431728  2.366478  Audi"
      ]
     },
     "execution_count": 85,
     "metadata": {},
     "output_type": "execute_result"
    }
   ],
   "source": [
    "pandasDF = pcaDF.toPandas()\n",
    "pandasDF.head(5)"
   ]
  },
  {
   "cell_type": "code",
   "execution_count": 86,
   "id": "b70b3305",
   "metadata": {},
   "outputs": [
    {
     "data": {
      "text/plain": [
       "<matplotlib.legend.Legend at 0x7f9d48142040>"
      ]
     },
     "execution_count": 86,
     "metadata": {},
     "output_type": "execute_result"
    },
    {
     "data": {
      "image/png": "[encoded data removed]",
      "text/plain": [
       "<Figure size 1080x1080 with 1 Axes>"
      ]
     },
     "metadata": {},
     "output_type": "display_data"
    }
   ],
   "source": [
    "fig, ax = plt.subplots(figsize=(15,15))          \n",
    "groups = pandasDF.groupby('Make')\n",
    "for name, group in groups:\n",
    "    ax.plot(group['PC1'], group['PC2'], marker='o', \n",
    "             linestyle='', markersize=3, label=name)\n",
    "ax.set_title('PCA')\n",
    "ax.set_xlabel('1st principal component')\n",
    "ax.set_ylabel('2nd principal component')\n",
    "plt.legend()"
   ]
  },
  {
   "cell_type": "code",
   "execution_count": 87,
   "id": "88a1b588",
   "metadata": {},
   "outputs": [],
   "source": [
    "spark.stop()"
   ]
  },
  {
   "cell_type": "code",
   "execution_count": null,
   "id": "fb537ab5",
   "metadata": {},
   "outputs": [],
   "source": []
  }
 ],
 "metadata": {
  "kernelspec": {
   "display_name": "Python 3",
   "language": "python",
   "name": "python3"
  },
  "language_info": {
   "codemirror_mode": {
    "name": "ipython",
    "version": 3
   },
   "file_extension": ".py",
   "mimetype": "text/x-python",
   "name": "python",
   "nbconvert_exporter": "python",
   "pygments_lexer": "ipython3",
   "version": "3.8.8"
  }
 },
 "nbformat": 4,
 "nbformat_minor": 5
}
